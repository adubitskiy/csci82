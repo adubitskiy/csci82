{
 "cells": [
  {
   "cell_type": "markdown",
   "metadata": {},
   "source": [
    "### Using tensorflow and neural networks to solve the homework 3 problem."
   ]
  },
  {
   "cell_type": "code",
   "execution_count": 1,
   "metadata": {},
   "outputs": [
    {
     "name": "stdout",
     "output_type": "stream",
     "text": [
      "Tensorflow is installed and is version:  1.3.0\n"
     ]
    }
   ],
   "source": [
    "import collections\n",
    "import os, shutil\n",
    "import numpy as np\n",
    "import pandas as pd\n",
    "\n",
    "import tempfile\n",
    "import logging\n",
    "\n",
    "from sklearn.preprocessing import StandardScaler\n",
    "\n",
    "from sklearn.metrics import confusion_matrix, make_scorer, accuracy_score, f1_score, classification_report\n",
    "from sklearn.model_selection import GridSearchCV, StratifiedKFold, train_test_split\n",
    "\n",
    "import matplotlib\n",
    "import matplotlib.pyplot as plt\n",
    "import matplotlib.cm as cm\n",
    "\n",
    "import tensorflow as tf\n",
    "print(\"Tensorflow is installed and is version: \",  tf.__version__)\n",
    "\n",
    "%matplotlib inline"
   ]
  },
  {
   "cell_type": "code",
   "execution_count": 2,
   "metadata": {
    "collapsed": true
   },
   "outputs": [],
   "source": [
    "def readData():\n",
    "    test = pd.read_csv('test_data.csv')\n",
    "    train = pd.read_csv('train_data.csv')\n",
    "    return train, test"
   ]
  },
  {
   "cell_type": "code",
   "execution_count": 3,
   "metadata": {
    "collapsed": true
   },
   "outputs": [],
   "source": [
    "train_df, test_df = readData()"
   ]
  },
  {
   "cell_type": "code",
   "execution_count": 4,
   "metadata": {},
   "outputs": [
    {
     "name": "stdout",
     "output_type": "stream",
     "text": [
      "Training data has 4584 observations with 670 features\n"
     ]
    },
    {
     "data": {
      "text/html": [
       "<div>\n",
       "<style>\n",
       "    .dataframe thead tr:only-child th {\n",
       "        text-align: right;\n",
       "    }\n",
       "\n",
       "    .dataframe thead th {\n",
       "        text-align: left;\n",
       "    }\n",
       "\n",
       "    .dataframe tbody tr th {\n",
       "        vertical-align: top;\n",
       "    }\n",
       "</style>\n",
       "<table border=\"1\" class=\"dataframe\">\n",
       "  <thead>\n",
       "    <tr style=\"text-align: right;\">\n",
       "      <th></th>\n",
       "      <th>x1</th>\n",
       "      <th>x2</th>\n",
       "      <th>x3</th>\n",
       "      <th>x4</th>\n",
       "      <th>x5</th>\n",
       "      <th>x6</th>\n",
       "      <th>x7</th>\n",
       "      <th>x8</th>\n",
       "      <th>x9</th>\n",
       "      <th>x10</th>\n",
       "      <th>...</th>\n",
       "      <th>z217</th>\n",
       "      <th>z218</th>\n",
       "      <th>z219</th>\n",
       "      <th>z220</th>\n",
       "      <th>z221</th>\n",
       "      <th>z222</th>\n",
       "      <th>subject</th>\n",
       "      <th>phase</th>\n",
       "      <th>state</th>\n",
       "      <th>output</th>\n",
       "    </tr>\n",
       "  </thead>\n",
       "  <tbody>\n",
       "    <tr>\n",
       "      <th>0</th>\n",
       "      <td>0</td>\n",
       "      <td>0</td>\n",
       "      <td>0</td>\n",
       "      <td>1</td>\n",
       "      <td>-300.361218</td>\n",
       "      <td>0.886360</td>\n",
       "      <td>-2.590886</td>\n",
       "      <td>225.001899</td>\n",
       "      <td>0.006204</td>\n",
       "      <td>0.000037</td>\n",
       "      <td>...</td>\n",
       "      <td>0.005242</td>\n",
       "      <td>0.024971</td>\n",
       "      <td>-1017.620978</td>\n",
       "      <td>-382.850838</td>\n",
       "      <td>-48.275711</td>\n",
       "      <td>-2.040336</td>\n",
       "      <td>A</td>\n",
       "      <td>3</td>\n",
       "      <td>B</td>\n",
       "      <td>0</td>\n",
       "    </tr>\n",
       "    <tr>\n",
       "      <th>1</th>\n",
       "      <td>0</td>\n",
       "      <td>0</td>\n",
       "      <td>0</td>\n",
       "      <td>1</td>\n",
       "      <td>-297.126090</td>\n",
       "      <td>0.622211</td>\n",
       "      <td>-3.960940</td>\n",
       "      <td>220.179017</td>\n",
       "      <td>0.006167</td>\n",
       "      <td>-0.000014</td>\n",
       "      <td>...</td>\n",
       "      <td>0.001722</td>\n",
       "      <td>0.023595</td>\n",
       "      <td>91.229094</td>\n",
       "      <td>24.802230</td>\n",
       "      <td>1.783950</td>\n",
       "      <td>0.022620</td>\n",
       "      <td>A</td>\n",
       "      <td>3</td>\n",
       "      <td>C</td>\n",
       "      <td>0</td>\n",
       "    </tr>\n",
       "    <tr>\n",
       "      <th>2</th>\n",
       "      <td>0</td>\n",
       "      <td>0</td>\n",
       "      <td>0</td>\n",
       "      <td>1</td>\n",
       "      <td>-236.460253</td>\n",
       "      <td>0.423640</td>\n",
       "      <td>-12.656341</td>\n",
       "      <td>139.453445</td>\n",
       "      <td>0.006276</td>\n",
       "      <td>-0.000028</td>\n",
       "      <td>...</td>\n",
       "      <td>-0.010894</td>\n",
       "      <td>-0.036318</td>\n",
       "      <td>-188.232347</td>\n",
       "      <td>-17.474861</td>\n",
       "      <td>-1.005571</td>\n",
       "      <td>-0.021628</td>\n",
       "      <td>A</td>\n",
       "      <td>3</td>\n",
       "      <td>B</td>\n",
       "      <td>0</td>\n",
       "    </tr>\n",
       "    <tr>\n",
       "      <th>3</th>\n",
       "      <td>0</td>\n",
       "      <td>0</td>\n",
       "      <td>0</td>\n",
       "      <td>1</td>\n",
       "      <td>33.411458</td>\n",
       "      <td>2.854415</td>\n",
       "      <td>-1.962432</td>\n",
       "      <td>3.208911</td>\n",
       "      <td>0.009752</td>\n",
       "      <td>-0.000273</td>\n",
       "      <td>...</td>\n",
       "      <td>-0.034184</td>\n",
       "      <td>-0.047734</td>\n",
       "      <td>185.122907</td>\n",
       "      <td>-549.282067</td>\n",
       "      <td>542.193381</td>\n",
       "      <td>-178.049926</td>\n",
       "      <td>A</td>\n",
       "      <td>3</td>\n",
       "      <td>A</td>\n",
       "      <td>0</td>\n",
       "    </tr>\n",
       "    <tr>\n",
       "      <th>4</th>\n",
       "      <td>0</td>\n",
       "      <td>0</td>\n",
       "      <td>0</td>\n",
       "      <td>1</td>\n",
       "      <td>-118.125214</td>\n",
       "      <td>2.009809</td>\n",
       "      <td>-3.291637</td>\n",
       "      <td>34.874176</td>\n",
       "      <td>0.007598</td>\n",
       "      <td>0.000001</td>\n",
       "      <td>...</td>\n",
       "      <td>0.001963</td>\n",
       "      <td>0.004084</td>\n",
       "      <td>35.207794</td>\n",
       "      <td>-78.143166</td>\n",
       "      <td>57.084208</td>\n",
       "      <td>-13.700212</td>\n",
       "      <td>A</td>\n",
       "      <td>4</td>\n",
       "      <td>C</td>\n",
       "      <td>0</td>\n",
       "    </tr>\n",
       "  </tbody>\n",
       "</table>\n",
       "<p>5 rows × 670 columns</p>\n",
       "</div>"
      ],
      "text/plain": [
       "   x1  x2  x3  x4          x5        x6         x7          x8        x9  \\\n",
       "0   0   0   0   1 -300.361218  0.886360  -2.590886  225.001899  0.006204   \n",
       "1   0   0   0   1 -297.126090  0.622211  -3.960940  220.179017  0.006167   \n",
       "2   0   0   0   1 -236.460253  0.423640 -12.656341  139.453445  0.006276   \n",
       "3   0   0   0   1   33.411458  2.854415  -1.962432    3.208911  0.009752   \n",
       "4   0   0   0   1 -118.125214  2.009809  -3.291637   34.874176  0.007598   \n",
       "\n",
       "        x10   ...        z217      z218         z219        z220        z221  \\\n",
       "0  0.000037   ...    0.005242  0.024971 -1017.620978 -382.850838  -48.275711   \n",
       "1 -0.000014   ...    0.001722  0.023595    91.229094   24.802230    1.783950   \n",
       "2 -0.000028   ...   -0.010894 -0.036318  -188.232347  -17.474861   -1.005571   \n",
       "3 -0.000273   ...   -0.034184 -0.047734   185.122907 -549.282067  542.193381   \n",
       "4  0.000001   ...    0.001963  0.004084    35.207794  -78.143166   57.084208   \n",
       "\n",
       "         z222  subject  phase  state  output  \n",
       "0   -2.040336        A      3      B       0  \n",
       "1    0.022620        A      3      C       0  \n",
       "2   -0.021628        A      3      B       0  \n",
       "3 -178.049926        A      3      A       0  \n",
       "4  -13.700212        A      4      C       0  \n",
       "\n",
       "[5 rows x 670 columns]"
      ]
     },
     "execution_count": 4,
     "metadata": {},
     "output_type": "execute_result"
    }
   ],
   "source": [
    "print('Training data has %d observations with %d features' % train_df.shape)\n",
    "train_df.head()"
   ]
  },
  {
   "cell_type": "code",
   "execution_count": 5,
   "metadata": {},
   "outputs": [
    {
     "name": "stdout",
     "output_type": "stream",
     "text": [
      "Test data has 1732 observations with 669 features\n"
     ]
    },
    {
     "data": {
      "text/html": [
       "<div>\n",
       "<style>\n",
       "    .dataframe thead tr:only-child th {\n",
       "        text-align: right;\n",
       "    }\n",
       "\n",
       "    .dataframe thead th {\n",
       "        text-align: left;\n",
       "    }\n",
       "\n",
       "    .dataframe tbody tr th {\n",
       "        vertical-align: top;\n",
       "    }\n",
       "</style>\n",
       "<table border=\"1\" class=\"dataframe\">\n",
       "  <thead>\n",
       "    <tr style=\"text-align: right;\">\n",
       "      <th></th>\n",
       "      <th>x1</th>\n",
       "      <th>x2</th>\n",
       "      <th>x3</th>\n",
       "      <th>x4</th>\n",
       "      <th>x5</th>\n",
       "      <th>x6</th>\n",
       "      <th>x7</th>\n",
       "      <th>x8</th>\n",
       "      <th>x9</th>\n",
       "      <th>x10</th>\n",
       "      <th>...</th>\n",
       "      <th>z216</th>\n",
       "      <th>z217</th>\n",
       "      <th>z218</th>\n",
       "      <th>z219</th>\n",
       "      <th>z220</th>\n",
       "      <th>z221</th>\n",
       "      <th>z222</th>\n",
       "      <th>subject</th>\n",
       "      <th>phase</th>\n",
       "      <th>state</th>\n",
       "    </tr>\n",
       "  </thead>\n",
       "  <tbody>\n",
       "    <tr>\n",
       "      <th>0</th>\n",
       "      <td>0</td>\n",
       "      <td>0</td>\n",
       "      <td>0</td>\n",
       "      <td>1</td>\n",
       "      <td>-18.839131</td>\n",
       "      <td>2.306584</td>\n",
       "      <td>-4.655889</td>\n",
       "      <td>1.013324</td>\n",
       "      <td>0.007153</td>\n",
       "      <td>0.000055</td>\n",
       "      <td>...</td>\n",
       "      <td>0.002809</td>\n",
       "      <td>0.014684</td>\n",
       "      <td>0.008373</td>\n",
       "      <td>325.428102</td>\n",
       "      <td>-821.094825</td>\n",
       "      <td>689.695558</td>\n",
       "      <td>-192.867397</td>\n",
       "      <td>B</td>\n",
       "      <td>1</td>\n",
       "      <td>B</td>\n",
       "    </tr>\n",
       "    <tr>\n",
       "      <th>1</th>\n",
       "      <td>0</td>\n",
       "      <td>0</td>\n",
       "      <td>0</td>\n",
       "      <td>1</td>\n",
       "      <td>-21.203051</td>\n",
       "      <td>2.112956</td>\n",
       "      <td>-2.503654</td>\n",
       "      <td>1.233657</td>\n",
       "      <td>0.007674</td>\n",
       "      <td>0.000025</td>\n",
       "      <td>...</td>\n",
       "      <td>0.001450</td>\n",
       "      <td>-0.012349</td>\n",
       "      <td>-0.029579</td>\n",
       "      <td>377.365602</td>\n",
       "      <td>-943.446587</td>\n",
       "      <td>785.687687</td>\n",
       "      <td>-217.952016</td>\n",
       "      <td>B</td>\n",
       "      <td>1</td>\n",
       "      <td>C</td>\n",
       "    </tr>\n",
       "    <tr>\n",
       "      <th>2</th>\n",
       "      <td>0</td>\n",
       "      <td>0</td>\n",
       "      <td>0</td>\n",
       "      <td>1</td>\n",
       "      <td>-83.843508</td>\n",
       "      <td>2.097191</td>\n",
       "      <td>-2.625699</td>\n",
       "      <td>17.607247</td>\n",
       "      <td>0.007290</td>\n",
       "      <td>0.000077</td>\n",
       "      <td>...</td>\n",
       "      <td>-0.024253</td>\n",
       "      <td>-0.014029</td>\n",
       "      <td>-0.015090</td>\n",
       "      <td>564.866863</td>\n",
       "      <td>-1445.004242</td>\n",
       "      <td>1231.304590</td>\n",
       "      <td>-349.493698</td>\n",
       "      <td>B</td>\n",
       "      <td>1</td>\n",
       "      <td>C</td>\n",
       "    </tr>\n",
       "    <tr>\n",
       "      <th>3</th>\n",
       "      <td>0</td>\n",
       "      <td>0</td>\n",
       "      <td>0</td>\n",
       "      <td>1</td>\n",
       "      <td>-192.522878</td>\n",
       "      <td>0.605105</td>\n",
       "      <td>-2.468908</td>\n",
       "      <td>92.456149</td>\n",
       "      <td>0.006284</td>\n",
       "      <td>0.000007</td>\n",
       "      <td>...</td>\n",
       "      <td>0.019957</td>\n",
       "      <td>-0.037490</td>\n",
       "      <td>0.002925</td>\n",
       "      <td>-552.398720</td>\n",
       "      <td>1163.146256</td>\n",
       "      <td>-816.945306</td>\n",
       "      <td>191.395611</td>\n",
       "      <td>B</td>\n",
       "      <td>1</td>\n",
       "      <td>C</td>\n",
       "    </tr>\n",
       "    <tr>\n",
       "      <th>4</th>\n",
       "      <td>0</td>\n",
       "      <td>0</td>\n",
       "      <td>0</td>\n",
       "      <td>1</td>\n",
       "      <td>-188.095799</td>\n",
       "      <td>0.390008</td>\n",
       "      <td>-4.870923</td>\n",
       "      <td>88.257844</td>\n",
       "      <td>0.007859</td>\n",
       "      <td>-0.000058</td>\n",
       "      <td>...</td>\n",
       "      <td>0.007063</td>\n",
       "      <td>-0.007101</td>\n",
       "      <td>0.025921</td>\n",
       "      <td>-860.687432</td>\n",
       "      <td>1838.968578</td>\n",
       "      <td>-1310.372483</td>\n",
       "      <td>311.393705</td>\n",
       "      <td>B</td>\n",
       "      <td>1</td>\n",
       "      <td>C</td>\n",
       "    </tr>\n",
       "  </tbody>\n",
       "</table>\n",
       "<p>5 rows × 669 columns</p>\n",
       "</div>"
      ],
      "text/plain": [
       "   x1  x2  x3  x4          x5        x6        x7         x8        x9  \\\n",
       "0   0   0   0   1  -18.839131  2.306584 -4.655889   1.013324  0.007153   \n",
       "1   0   0   0   1  -21.203051  2.112956 -2.503654   1.233657  0.007674   \n",
       "2   0   0   0   1  -83.843508  2.097191 -2.625699  17.607247  0.007290   \n",
       "3   0   0   0   1 -192.522878  0.605105 -2.468908  92.456149  0.006284   \n",
       "4   0   0   0   1 -188.095799  0.390008 -4.870923  88.257844  0.007859   \n",
       "\n",
       "        x10  ...        z216      z217      z218        z219         z220  \\\n",
       "0  0.000055  ...    0.002809  0.014684  0.008373  325.428102  -821.094825   \n",
       "1  0.000025  ...    0.001450 -0.012349 -0.029579  377.365602  -943.446587   \n",
       "2  0.000077  ...   -0.024253 -0.014029 -0.015090  564.866863 -1445.004242   \n",
       "3  0.000007  ...    0.019957 -0.037490  0.002925 -552.398720  1163.146256   \n",
       "4 -0.000058  ...    0.007063 -0.007101  0.025921 -860.687432  1838.968578   \n",
       "\n",
       "          z221        z222  subject  phase  state  \n",
       "0   689.695558 -192.867397        B      1      B  \n",
       "1   785.687687 -217.952016        B      1      C  \n",
       "2  1231.304590 -349.493698        B      1      C  \n",
       "3  -816.945306  191.395611        B      1      C  \n",
       "4 -1310.372483  311.393705        B      1      C  \n",
       "\n",
       "[5 rows x 669 columns]"
      ]
     },
     "execution_count": 5,
     "metadata": {},
     "output_type": "execute_result"
    }
   ],
   "source": [
    "print('Test data has %d observations with %d features' % test_df.shape)\n",
    "test_df.head()"
   ]
  },
  {
   "cell_type": "markdown",
   "metadata": {},
   "source": [
    "Split into training / validation data sets"
   ]
  },
  {
   "cell_type": "code",
   "execution_count": 6,
   "metadata": {
    "collapsed": true
   },
   "outputs": [],
   "source": [
    "train_df, valid_df = train_test_split(train_df, stratify = train_df.output, test_size = 0.20, random_state=100)"
   ]
  },
  {
   "cell_type": "code",
   "execution_count": 7,
   "metadata": {
    "collapsed": true
   },
   "outputs": [],
   "source": [
    "train_df = train_df.copy().reset_index(drop = True)\n",
    "y_train = train_df.output\n",
    "train_df.drop('output', axis = 1, inplace=True)"
   ]
  },
  {
   "cell_type": "code",
   "execution_count": 8,
   "metadata": {
    "collapsed": true
   },
   "outputs": [],
   "source": [
    "valid_df = valid_df.copy().reset_index(drop = True)\n",
    "y_valid = valid_df.output\n",
    "valid_df.drop('output', axis = 1, inplace=True)"
   ]
  },
  {
   "cell_type": "markdown",
   "metadata": {},
   "source": [
    "Scale the numerical features to zero mean and unit variance"
   ]
  },
  {
   "cell_type": "code",
   "execution_count": 9,
   "metadata": {
    "collapsed": true
   },
   "outputs": [],
   "source": [
    "scaler = StandardScaler()\n",
    "scaler = scaler.fit(train_df.iloc[:, :-3])"
   ]
  },
  {
   "cell_type": "code",
   "execution_count": 10,
   "metadata": {
    "collapsed": true
   },
   "outputs": [],
   "source": [
    "X_train = scaler.transform(train_df.iloc[:, :-3])\n",
    "X_train = pd.DataFrame(X_train, columns = train_df.columns[:-3])\n",
    "X_train['subject'] = train_df.subject\n",
    "X_train['phase'] = train_df.phase\n",
    "X_train['state'] = train_df.state"
   ]
  },
  {
   "cell_type": "code",
   "execution_count": 11,
   "metadata": {
    "collapsed": true
   },
   "outputs": [],
   "source": [
    "X_valid = scaler.transform(valid_df.iloc[:, :-3])\n",
    "X_valid = pd.DataFrame(X_valid, columns = valid_df.columns[:-3])\n",
    "X_valid['subject'] = valid_df.subject\n",
    "X_valid['phase'] = valid_df.phase\n",
    "X_valid['state'] = valid_df.state"
   ]
  },
  {
   "cell_type": "code",
   "execution_count": 12,
   "metadata": {
    "collapsed": true
   },
   "outputs": [],
   "source": [
    "X_test = scaler.transform(test_df.iloc[:, :-3])\n",
    "X_test = pd.DataFrame(X_test, columns = test_df.columns[:-3])\n",
    "X_test['subject'] = test_df.subject\n",
    "X_test['phase'] = test_df.phase\n",
    "X_test['state'] = test_df.state"
   ]
  },
  {
   "cell_type": "markdown",
   "metadata": {},
   "source": [
    "Prepare feature definitions for the tensorflow models"
   ]
  },
  {
   "cell_type": "code",
   "execution_count": 13,
   "metadata": {
    "collapsed": true
   },
   "outputs": [],
   "source": [
    "# categorical features\n",
    "subject = tf.feature_column.categorical_column_with_vocabulary_list(\n",
    "    key = \"subject\", \n",
    "    vocabulary_list=('A', 'B', 'C', 'D', 'E', 'F', 'G', 'H', 'I', 'k', 'L', 'M'))\n",
    "phase = tf.feature_column.categorical_column_with_identity(key='phase', num_buckets=10)\n",
    "state = tf.feature_column.categorical_column_with_vocabulary_list(\n",
    "    key='state', \n",
    "    vocabulary_list=('A', 'B', 'C', 'D', 'E'))\n",
    "categorical_features = [\n",
    "    tf.feature_column.indicator_column(subject), \n",
    "    tf.feature_column.indicator_column(phase), \n",
    "    tf.feature_column.indicator_column(state)\n",
    "]"
   ]
  },
  {
   "cell_type": "code",
   "execution_count": 14,
   "metadata": {
    "collapsed": true
   },
   "outputs": [],
   "source": [
    "# numerical features\n",
    "numerical_features = []\n",
    "for i in np.arange(1, 223):\n",
    "    numerical_features.append(tf.feature_column.numeric_column('x%d'%i))\n",
    "    numerical_features.append(tf.feature_column.numeric_column('y%d'%i))\n",
    "    numerical_features.append(tf.feature_column.numeric_column('z%d'%i))"
   ]
  },
  {
   "cell_type": "code",
   "execution_count": 15,
   "metadata": {
    "collapsed": true
   },
   "outputs": [],
   "source": [
    "# crossed features\n",
    "subject_phase = tf.feature_column.crossed_column([\"subject\", \"phase\"], hash_bucket_size=100)\n",
    "crossed_features = [\n",
    "    tf.feature_column.indicator_column(subject_phase) \n",
    "]"
   ]
  },
  {
   "cell_type": "code",
   "execution_count": 16,
   "metadata": {},
   "outputs": [
    {
     "name": "stdout",
     "output_type": "stream",
     "text": [
      "Training data has 3667 observations with 669 features\n",
      "Validation data has 917 observations with 669 features\n"
     ]
    }
   ],
   "source": [
    "print('Training data has %d observations with %d features' % X_train.shape)\n",
    "print('Validation data has %d observations with %d features' % X_valid.shape)"
   ]
  },
  {
   "cell_type": "markdown",
   "metadata": {},
   "source": [
    "#### Logistic regression tensorflow style  \n",
    "Cross validate the model to find the best regularization parameter. "
   ]
  },
  {
   "cell_type": "code",
   "execution_count": 17,
   "metadata": {},
   "outputs": [
    {
     "name": "stdout",
     "output_type": "stream",
     "text": [
      "INFO:tensorflow:Using default config.\n",
      "INFO:tensorflow:Using config: {'_save_checkpoints_steps': None, '_session_config': None, '_model_dir': 'tmp_model', '_save_checkpoints_secs': 600, '_save_summary_steps': 100, '_tf_random_seed': 1, '_keep_checkpoint_max': 5, '_log_step_count_steps': 100, '_keep_checkpoint_every_n_hours': 10000}\n",
      "INFO:tensorflow:Create CheckpointSaverHook.\n",
      "INFO:tensorflow:Saving checkpoints for 1 into tmp_model\\model.ckpt.\n",
      "INFO:tensorflow:step = 1, loss = 177.446\n",
      "INFO:tensorflow:global_step/sec: 4.07963\n",
      "INFO:tensorflow:step = 101, loss = 115.217 (24.513 sec)\n",
      "INFO:tensorflow:Saving checkpoints for 144 into tmp_model\\model.ckpt.\n",
      "INFO:tensorflow:Loss for final step: 25.7426.\n",
      "WARNING:tensorflow:Casting <dtype: 'float32'> labels to bool.\n",
      "WARNING:tensorflow:Casting <dtype: 'float32'> labels to bool.\n",
      "INFO:tensorflow:Starting evaluation at 2017-11-03-17:50:53\n",
      "INFO:tensorflow:Restoring parameters from tmp_model\\model.ckpt-144\n",
      "INFO:tensorflow:Finished evaluation at 2017-11-03-17:51:08\n",
      "INFO:tensorflow:Saving dict for global step 144: accuracy = 0.841876, accuracy_baseline = 0.845147, auc = 0.705879, auc_precision_recall = 0.923545, average_loss = 0.469023, global_step = 144, label/mean = 0.845147, loss = 107.523, prediction/mean = 0.682889\n",
      "INFO:tensorflow:Using default config.\n",
      "INFO:tensorflow:Using config: {'_save_checkpoints_steps': None, '_session_config': None, '_model_dir': 'tmp_model', '_save_checkpoints_secs': 600, '_save_summary_steps': 100, '_tf_random_seed': 1, '_keep_checkpoint_max': 5, '_log_step_count_steps': 100, '_keep_checkpoint_every_n_hours': 10000}\n",
      "INFO:tensorflow:Create CheckpointSaverHook.\n",
      "INFO:tensorflow:Saving checkpoints for 1 into tmp_model\\model.ckpt.\n",
      "INFO:tensorflow:step = 1, loss = 177.446\n",
      "INFO:tensorflow:global_step/sec: 3.96778\n",
      "INFO:tensorflow:step = 101, loss = 115.93 (25.204 sec)\n",
      "INFO:tensorflow:Saving checkpoints for 144 into tmp_model\\model.ckpt.\n",
      "INFO:tensorflow:Loss for final step: 28.4296.\n",
      "WARNING:tensorflow:Casting <dtype: 'float32'> labels to bool.\n",
      "WARNING:tensorflow:Casting <dtype: 'float32'> labels to bool.\n",
      "INFO:tensorflow:Starting evaluation at 2017-11-03-17:55:31\n",
      "INFO:tensorflow:Restoring parameters from tmp_model\\model.ckpt-144\n",
      "INFO:tensorflow:Finished evaluation at 2017-11-03-17:55:46\n",
      "INFO:tensorflow:Saving dict for global step 144: accuracy = 0.834242, accuracy_baseline = 0.845147, auc = 0.705348, auc_precision_recall = 0.92526, average_loss = 0.477264, global_step = 144, label/mean = 0.845147, loss = 109.413, prediction/mean = 0.674804\n",
      "INFO:tensorflow:Using default config.\n",
      "INFO:tensorflow:Using config: {'_save_checkpoints_steps': None, '_session_config': None, '_model_dir': 'tmp_model', '_save_checkpoints_secs': 600, '_save_summary_steps': 100, '_tf_random_seed': 1, '_keep_checkpoint_max': 5, '_log_step_count_steps': 100, '_keep_checkpoint_every_n_hours': 10000}\n",
      "INFO:tensorflow:Create CheckpointSaverHook.\n",
      "INFO:tensorflow:Saving checkpoints for 1 into tmp_model\\model.ckpt.\n",
      "INFO:tensorflow:step = 1, loss = 177.446\n",
      "INFO:tensorflow:global_step/sec: 3.87672\n",
      "INFO:tensorflow:step = 101, loss = 128.653 (25.795 sec)\n",
      "INFO:tensorflow:Saving checkpoints for 144 into tmp_model\\model.ckpt.\n",
      "INFO:tensorflow:Loss for final step: 28.2107.\n",
      "WARNING:tensorflow:Casting <dtype: 'float32'> labels to bool.\n",
      "WARNING:tensorflow:Casting <dtype: 'float32'> labels to bool.\n",
      "INFO:tensorflow:Starting evaluation at 2017-11-03-17:59:44\n",
      "INFO:tensorflow:Restoring parameters from tmp_model\\model.ckpt-144\n",
      "INFO:tensorflow:Finished evaluation at 2017-11-03-17:59:59\n",
      "INFO:tensorflow:Saving dict for global step 144: accuracy = 0.842966, accuracy_baseline = 0.845147, auc = 0.712022, auc_precision_recall = 0.927309, average_loss = 0.495601, global_step = 144, label/mean = 0.845147, loss = 113.616, prediction/mean = 0.653818\n",
      "INFO:tensorflow:Using default config.\n",
      "INFO:tensorflow:Using config: {'_save_checkpoints_steps': None, '_session_config': None, '_model_dir': 'tmp_model', '_save_checkpoints_secs': 600, '_save_summary_steps': 100, '_tf_random_seed': 1, '_keep_checkpoint_max': 5, '_log_step_count_steps': 100, '_keep_checkpoint_every_n_hours': 10000}\n",
      "INFO:tensorflow:Create CheckpointSaverHook.\n",
      "INFO:tensorflow:Saving checkpoints for 1 into tmp_model\\model.ckpt.\n",
      "INFO:tensorflow:step = 1, loss = 177.446\n",
      "INFO:tensorflow:global_step/sec: 3.93437\n",
      "INFO:tensorflow:step = 101, loss = 157.074 (25.419 sec)\n",
      "INFO:tensorflow:Saving checkpoints for 144 into tmp_model\\model.ckpt.\n",
      "INFO:tensorflow:Loss for final step: 34.6117.\n",
      "WARNING:tensorflow:Casting <dtype: 'float32'> labels to bool.\n",
      "WARNING:tensorflow:Casting <dtype: 'float32'> labels to bool.\n",
      "INFO:tensorflow:Starting evaluation at 2017-11-03-18:03:56\n",
      "INFO:tensorflow:Restoring parameters from tmp_model\\model.ckpt-144\n",
      "INFO:tensorflow:Finished evaluation at 2017-11-03-18:04:12\n",
      "INFO:tensorflow:Saving dict for global step 144: accuracy = 0.848419, accuracy_baseline = 0.845147, auc = 0.666447, auc_precision_recall = 0.914637, average_loss = 0.57485, global_step = 144, label/mean = 0.845147, loss = 131.784, prediction/mean = 0.587434\n"
     ]
    }
   ],
   "source": [
    "results = []\n",
    "regularization = [1.0, 10.0, 100.0, 1000.0]\n",
    "\n",
    "for l1_r in regularization:\n",
    "    shutil.rmtree('tmp_model',  ignore_errors=True)\n",
    "    m = tf.estimator.LinearClassifier(\n",
    "        model_dir = 'tmp_model',\n",
    "        optimizer=tf.train.FtrlOptimizer(learning_rate=0.01, l1_regularization_strength=l1_r),\n",
    "        feature_columns = numerical_features + categorical_features + crossed_features\n",
    "    )    \n",
    "    m = m.train(\n",
    "        input_fn=tf.estimator.inputs.pandas_input_fn(\n",
    "            x = X_train, y = y_train, batch_size = 256, num_epochs = 10, shuffle = True))\n",
    "    r = m.evaluate(\n",
    "        input_fn=tf.estimator.inputs.pandas_input_fn(\n",
    "            x = X_valid, y = y_valid, batch_size = 256, num_epochs = 1, shuffle = False))\n",
    "    results.append(r)"
   ]
  },
  {
   "cell_type": "code",
   "execution_count": 18,
   "metadata": {
    "collapsed": true
   },
   "outputs": [],
   "source": [
    "accuracy = [r['accuracy'] for r in results]\n",
    "auc = [r['auc'] for r in results]"
   ]
  },
  {
   "cell_type": "code",
   "execution_count": 19,
   "metadata": {},
   "outputs": [
    {
     "data": {
      "text/plain": [
       "<matplotlib.legend.Legend at 0x16b64607630>"
      ]
     },
     "execution_count": 19,
     "metadata": {},
     "output_type": "execute_result"
    },
    {
     "data": {
      "image/png": "[encoded data removed]",
      "text/plain": [
       "<matplotlib.figure.Figure at 0x16b4a6a1320>"
      ]
     },
     "metadata": {},
     "output_type": "display_data"
    }
   ],
   "source": [
    "plt.plot(regularization, accuracy, label='accuracy')\n",
    "plt.plot(regularization, auc, label='auc')\n",
    "plt.xlabel('Regularization strength')\n",
    "plt.xscale('log')\n",
    "plt.title('Logistic regression cross-validation results')\n",
    "plt.legend()"
   ]
  },
  {
   "cell_type": "markdown",
   "metadata": {},
   "source": [
    "It is already clear to us the NN-based model is more complex to cross-validate. There is a lot of parameters to chose - batch size, how many epcohs to train on, which optimizer to use, the learning rate. It is also slower to train than a normal logistic regression model."
   ]
  },
  {
   "cell_type": "code",
   "execution_count": 20,
   "metadata": {},
   "outputs": [
    {
     "name": "stdout",
     "output_type": "stream",
     "text": [
      "INFO:tensorflow:Using default config.\n",
      "INFO:tensorflow:Using config: {'_save_checkpoints_steps': None, '_session_config': None, '_model_dir': 'log_model', '_save_checkpoints_secs': 600, '_save_summary_steps': 100, '_tf_random_seed': 1, '_keep_checkpoint_max': 5, '_log_step_count_steps': 100, '_keep_checkpoint_every_n_hours': 10000}\n"
     ]
    }
   ],
   "source": [
    "shutil.rmtree('log_model',  ignore_errors=True)\n",
    "\n",
    "log_model = tf.estimator.LinearClassifier(\n",
    "    model_dir = 'log_model',\n",
    "    # best regularization parameter from the cross-validation\n",
    "    optimizer=tf.train.FtrlOptimizer(learning_rate=0.1, l1_regularization_strength=100.),\n",
    "    feature_columns = numerical_features + categorical_features + crossed_features\n",
    ")"
   ]
  },
  {
   "cell_type": "code",
   "execution_count": 21,
   "metadata": {},
   "outputs": [
    {
     "name": "stdout",
     "output_type": "stream",
     "text": [
      "INFO:tensorflow:Create CheckpointSaverHook.\n",
      "INFO:tensorflow:Saving checkpoints for 1 into log_model\\model.ckpt.\n",
      "INFO:tensorflow:step = 1, loss = 177.446\n",
      "INFO:tensorflow:Saving checkpoints for 72 into log_model\\model.ckpt.\n",
      "INFO:tensorflow:Loss for final step: 56.8861.\n"
     ]
    },
    {
     "data": {
      "text/plain": [
       "<tensorflow.python.estimator.canned.linear.LinearClassifier at 0x16b636e75f8>"
      ]
     },
     "execution_count": 21,
     "metadata": {},
     "output_type": "execute_result"
    }
   ],
   "source": [
    "log_model.train(\n",
    "    input_fn=tf.estimator.inputs.pandas_input_fn(\n",
    "        x = X_train, y = y_train, batch_size = 256, num_epochs = 5, shuffle = False))"
   ]
  },
  {
   "cell_type": "code",
   "execution_count": 22,
   "metadata": {},
   "outputs": [
    {
     "name": "stdout",
     "output_type": "stream",
     "text": [
      "WARNING:tensorflow:Casting <dtype: 'float32'> labels to bool.\n",
      "WARNING:tensorflow:Casting <dtype: 'float32'> labels to bool.\n",
      "INFO:tensorflow:Starting evaluation at 2017-11-03-18:11:06\n",
      "INFO:tensorflow:Restoring parameters from log_model\\model.ckpt-72\n",
      "INFO:tensorflow:Finished evaluation at 2017-11-03-18:11:23\n",
      "INFO:tensorflow:Saving dict for global step 72: accuracy = 0.85169, accuracy_baseline = 0.845147, auc = 0.740645, auc_precision_recall = 0.930634, average_loss = 0.382724, global_step = 72, label/mean = 0.845147, loss = 87.7394, prediction/mean = 0.825695\n"
     ]
    }
   ],
   "source": [
    "log_results = log_model.evaluate(\n",
    "    input_fn=tf.estimator.inputs.pandas_input_fn(\n",
    "        x = X_valid, y = y_valid, batch_size = 256, num_epochs = 1, shuffle = False))"
   ]
  },
  {
   "cell_type": "code",
   "execution_count": 23,
   "metadata": {},
   "outputs": [
    {
     "name": "stdout",
     "output_type": "stream",
     "text": [
      "accuracy: 0.85169\n",
      "accuracy_baseline: 0.845147\n",
      "auc: 0.740645\n",
      "auc_precision_recall: 0.930634\n",
      "average_loss: 0.382724\n",
      "global_step: 72\n",
      "label/mean: 0.845147\n",
      "loss: 87.7394\n",
      "prediction/mean: 0.825695\n"
     ]
    }
   ],
   "source": [
    "for key in sorted(log_results):\n",
    "    print(\"%s: %s\" % (key, log_results[key]))"
   ]
  },
  {
   "cell_type": "code",
   "execution_count": 24,
   "metadata": {
    "collapsed": true
   },
   "outputs": [],
   "source": [
    "log_predict = log_model.predict(\n",
    "    input_fn=tf.estimator.inputs.pandas_input_fn(\n",
    "        x = X_test, y = None, batch_size = 256, num_epochs = 1, shuffle = False))"
   ]
  },
  {
   "cell_type": "code",
   "execution_count": 25,
   "metadata": {},
   "outputs": [
    {
     "name": "stdout",
     "output_type": "stream",
     "text": [
      "INFO:tensorflow:Restoring parameters from log_model\\model.ckpt-72\n"
     ]
    }
   ],
   "source": [
    "log_results = list(log_predict)"
   ]
  },
  {
   "cell_type": "markdown",
   "metadata": {},
   "source": [
    "#### Prepare the Kaggle submission"
   ]
  },
  {
   "cell_type": "code",
   "execution_count": 26,
   "metadata": {
    "collapsed": true
   },
   "outputs": [],
   "source": [
    "p_hat = [r['probabilities'][1] for r in log_results]\n",
    "test_df['output'] = p_hat\n",
    "test_df[['output']].to_csv('log_solution.csv', index_label = 'id')\n",
    "test_df.drop('output', inplace = True, axis = 1)"
   ]
  },
  {
   "cell_type": "markdown",
   "metadata": {},
   "source": [
    "There was not an imporvement on my best submssion score from the random forest model."
   ]
  },
  {
   "cell_type": "markdown",
   "metadata": {},
   "source": [
    "#### NN tensorflow style  \n",
    "Here we try a proper NN based on DNNClassifier class. It gives us an ability to define a deep NN without too much effort but perhaps with limited configuration options."
   ]
  },
  {
   "cell_type": "code",
   "execution_count": 48,
   "metadata": {},
   "outputs": [
    {
     "name": "stdout",
     "output_type": "stream",
     "text": [
      "INFO:tensorflow:Using default config.\n",
      "INFO:tensorflow:Using config: {'_save_checkpoints_steps': None, '_session_config': None, '_model_dir': 'tmp_model', '_save_checkpoints_secs': 600, '_save_summary_steps': 100, '_tf_random_seed': 1, '_keep_checkpoint_max': 5, '_log_step_count_steps': 100, '_keep_checkpoint_every_n_hours': 10000}\n"
     ]
    }
   ],
   "source": [
    "shutil.rmtree('tmp_model',  ignore_errors=True)\n",
    "\n",
    "#  defining a 3-layer network is easy\n",
    "nn_model = tf.estimator.DNNClassifier(\n",
    "    model_dir = 'tmp_model',\n",
    "    feature_columns=numerical_features + categorical_features + crossed_features,\n",
    "    hidden_units=[512, 256, 128],\n",
    "    n_classes=2\n",
    ")"
   ]
  },
  {
   "cell_type": "code",
   "execution_count": 49,
   "metadata": {},
   "outputs": [
    {
     "name": "stdout",
     "output_type": "stream",
     "text": [
      "INFO:tensorflow:Create CheckpointSaverHook.\n",
      "INFO:tensorflow:Saving checkpoints for 1 into tmp_model\\model.ckpt.\n",
      "INFO:tensorflow:step = 1, loss = 171.649\n",
      "INFO:tensorflow:global_step/sec: 4.98828\n",
      "INFO:tensorflow:step = 101, loss = 64.8818 (20.048 sec)\n",
      "INFO:tensorflow:global_step/sec: 5.12636\n",
      "INFO:tensorflow:step = 201, loss = 42.071 (19.529 sec)\n",
      "INFO:tensorflow:Saving checkpoints for 287 into tmp_model\\model.ckpt.\n",
      "INFO:tensorflow:Loss for final step: 2.35968.\n"
     ]
    }
   ],
   "source": [
    "nn_model = nn_model.train(\n",
    "    input_fn=tf.estimator.inputs.pandas_input_fn(\n",
    "        x = X_train, y = y_train, batch_size = 256, num_epochs = 20, shuffle = True))"
   ]
  },
  {
   "cell_type": "code",
   "execution_count": 50,
   "metadata": {},
   "outputs": [
    {
     "name": "stdout",
     "output_type": "stream",
     "text": [
      "WARNING:tensorflow:Casting <dtype: 'float32'> labels to bool.\n",
      "WARNING:tensorflow:Casting <dtype: 'float32'> labels to bool.\n",
      "INFO:tensorflow:Starting evaluation at 2017-11-03-18:35:53\n",
      "INFO:tensorflow:Restoring parameters from tmp_model\\model.ckpt-287\n",
      "INFO:tensorflow:Finished evaluation at 2017-11-03-18:35:58\n",
      "INFO:tensorflow:Saving dict for global step 287: accuracy = 0.848419, accuracy_baseline = 0.845147, auc = 0.728801, auc_precision_recall = 0.941839, average_loss = 0.780472, global_step = 287, label/mean = 0.845147, loss = 178.923, prediction/mean = 0.90286\n",
      "-----------------------------------------------------------------------------\n",
      "accuracy: 0.848419\n",
      "accuracy_baseline: 0.845147\n",
      "auc: 0.728801\n",
      "auc_precision_recall: 0.941839\n",
      "average_loss: 0.780472\n",
      "global_step: 287\n",
      "label/mean: 0.845147\n",
      "loss: 178.923\n",
      "prediction/mean: 0.90286\n"
     ]
    }
   ],
   "source": [
    "nn_results = nn_model.evaluate(\n",
    "    input_fn=tf.estimator.inputs.pandas_input_fn(\n",
    "        x = X_valid, y = y_valid, batch_size = 256, num_epochs = 1, shuffle = False))\n",
    "print(\"-----------------------------------------------------------------------------\")\n",
    "for key in sorted(nn_results):\n",
    "    print(\"%s: %s\" % (key, nn_results[key]))"
   ]
  },
  {
   "cell_type": "markdown",
   "metadata": {},
   "source": [
    "it works out of the box but the AUC is slightly down comparing to the logistic regression model. Let's try a simpler network."
   ]
  },
  {
   "cell_type": "code",
   "execution_count": 51,
   "metadata": {},
   "outputs": [
    {
     "name": "stdout",
     "output_type": "stream",
     "text": [
      "INFO:tensorflow:Using default config.\n",
      "INFO:tensorflow:Using config: {'_save_checkpoints_steps': None, '_session_config': None, '_model_dir': 'tmp_model', '_save_checkpoints_secs': 600, '_save_summary_steps': 100, '_tf_random_seed': 1, '_keep_checkpoint_max': 5, '_log_step_count_steps': 100, '_keep_checkpoint_every_n_hours': 10000}\n"
     ]
    }
   ],
   "source": [
    "shutil.rmtree('tmp_model',  ignore_errors=True)\n",
    "\n",
    "nn_model = tf.estimator.DNNClassifier(\n",
    "    model_dir = 'tmp_model',\n",
    "    feature_columns=numerical_features + categorical_features + crossed_features,\n",
    "    hidden_units=[256, 128, 64],\n",
    "    n_classes=2,\n",
    ")"
   ]
  },
  {
   "cell_type": "code",
   "execution_count": 52,
   "metadata": {},
   "outputs": [
    {
     "name": "stdout",
     "output_type": "stream",
     "text": [
      "INFO:tensorflow:Create CheckpointSaverHook.\n",
      "INFO:tensorflow:Saving checkpoints for 1 into tmp_model\\model.ckpt.\n",
      "INFO:tensorflow:step = 1, loss = 171.306\n",
      "INFO:tensorflow:global_step/sec: 5.14642\n",
      "INFO:tensorflow:step = 101, loss = 63.8433 (19.432 sec)\n",
      "INFO:tensorflow:global_step/sec: 5.28039\n",
      "INFO:tensorflow:step = 201, loss = 21.0602 (18.939 sec)\n",
      "INFO:tensorflow:Saving checkpoints for 287 into tmp_model\\model.ckpt.\n",
      "INFO:tensorflow:Loss for final step: 5.50824.\n"
     ]
    }
   ],
   "source": [
    "nn_model = nn_model.train(\n",
    "    input_fn=tf.estimator.inputs.pandas_input_fn(\n",
    "        x = X_train, y = y_train, batch_size = 256, num_epochs = 20, shuffle = True))"
   ]
  },
  {
   "cell_type": "code",
   "execution_count": 53,
   "metadata": {},
   "outputs": [
    {
     "name": "stdout",
     "output_type": "stream",
     "text": [
      "WARNING:tensorflow:Casting <dtype: 'float32'> labels to bool.\n",
      "WARNING:tensorflow:Casting <dtype: 'float32'> labels to bool.\n",
      "INFO:tensorflow:Starting evaluation at 2017-11-03-18:40:38\n",
      "INFO:tensorflow:Restoring parameters from tmp_model\\model.ckpt-287\n",
      "INFO:tensorflow:Finished evaluation at 2017-11-03-18:40:43\n",
      "INFO:tensorflow:Saving dict for global step 287: accuracy = 0.842966, accuracy_baseline = 0.845147, auc = 0.731004, auc_precision_recall = 0.939507, average_loss = 0.66199, global_step = 287, label/mean = 0.845147, loss = 151.761, prediction/mean = 0.865723\n",
      "-----------------------------------------------------------------------------\n",
      "accuracy: 0.842966\n",
      "accuracy_baseline: 0.845147\n",
      "auc: 0.731004\n",
      "auc_precision_recall: 0.939507\n",
      "average_loss: 0.66199\n",
      "global_step: 287\n",
      "label/mean: 0.845147\n",
      "loss: 151.761\n",
      "prediction/mean: 0.865723\n"
     ]
    }
   ],
   "source": [
    "nn_results = nn_model.evaluate(\n",
    "    input_fn=tf.estimator.inputs.pandas_input_fn(\n",
    "        x = X_valid, y = y_valid, batch_size = 256, num_epochs = 1, shuffle = False))\n",
    "print(\"-----------------------------------------------------------------------------\")\n",
    "for key in sorted(nn_results):\n",
    "    print(\"%s: %s\" % (key, nn_results[key]))"
   ]
  },
  {
   "cell_type": "markdown",
   "metadata": {},
   "source": [
    "We got slightly better AUC on the smaller network, so maybe we are overfitting."
   ]
  },
  {
   "cell_type": "markdown",
   "metadata": {},
   "source": [
    "Lets stop earlier (less epochs for the network to see)."
   ]
  },
  {
   "cell_type": "code",
   "execution_count": 57,
   "metadata": {},
   "outputs": [
    {
     "name": "stdout",
     "output_type": "stream",
     "text": [
      "INFO:tensorflow:Using default config.\n",
      "INFO:tensorflow:Using config: {'_save_checkpoints_steps': None, '_session_config': None, '_model_dir': 'tmp_model', '_save_checkpoints_secs': 600, '_save_summary_steps': 100, '_tf_random_seed': 1, '_keep_checkpoint_max': 5, '_log_step_count_steps': 100, '_keep_checkpoint_every_n_hours': 10000}\n"
     ]
    }
   ],
   "source": [
    "shutil.rmtree('tmp_model',  ignore_errors=True)\n",
    "\n",
    "nn_model = tf.estimator.DNNClassifier(\n",
    "    model_dir = 'tmp_model',\n",
    "    feature_columns=numerical_features + categorical_features + crossed_features,\n",
    "    hidden_units=[256, 128, 64],\n",
    "    n_classes=2,\n",
    ")"
   ]
  },
  {
   "cell_type": "code",
   "execution_count": 58,
   "metadata": {},
   "outputs": [
    {
     "name": "stdout",
     "output_type": "stream",
     "text": [
      "INFO:tensorflow:Create CheckpointSaverHook.\n",
      "INFO:tensorflow:Saving checkpoints for 1 into tmp_model\\model.ckpt.\n",
      "INFO:tensorflow:step = 1, loss = 173.588\n",
      "INFO:tensorflow:Saving checkpoints for 72 into tmp_model\\model.ckpt.\n",
      "INFO:tensorflow:Loss for final step: 50.674.\n"
     ]
    }
   ],
   "source": [
    "nn_model = nn_model.train(\n",
    "    input_fn=tf.estimator.inputs.pandas_input_fn(\n",
    "        # 5 epochs instead of 20\n",
    "        x = X_train, y = y_train, batch_size = 256, num_epochs = 5, shuffle = True))"
   ]
  },
  {
   "cell_type": "code",
   "execution_count": 59,
   "metadata": {},
   "outputs": [
    {
     "name": "stdout",
     "output_type": "stream",
     "text": [
      "WARNING:tensorflow:Casting <dtype: 'float32'> labels to bool.\n",
      "WARNING:tensorflow:Casting <dtype: 'float32'> labels to bool.\n",
      "INFO:tensorflow:Starting evaluation at 2017-11-03-18:47:22\n",
      "INFO:tensorflow:Restoring parameters from tmp_model\\model.ckpt-72\n",
      "INFO:tensorflow:Finished evaluation at 2017-11-03-18:47:28\n",
      "INFO:tensorflow:Saving dict for global step 72: accuracy = 0.845147, accuracy_baseline = 0.845147, auc = 0.733926, auc_precision_recall = 0.934118, average_loss = 0.393438, global_step = 72, label/mean = 0.845147, loss = 90.1956, prediction/mean = 0.881089\n",
      "-----------------------------------------------------------------------------\n",
      "accuracy: 0.845147\n",
      "accuracy_baseline: 0.845147\n",
      "auc: 0.733926\n",
      "auc_precision_recall: 0.934118\n",
      "average_loss: 0.393438\n",
      "global_step: 72\n",
      "label/mean: 0.845147\n",
      "loss: 90.1956\n",
      "prediction/mean: 0.881089\n"
     ]
    }
   ],
   "source": [
    "nn_results = nn_model.evaluate(\n",
    "    input_fn=tf.estimator.inputs.pandas_input_fn(\n",
    "        x = X_valid, y = y_valid, batch_size = 256, num_epochs = 1, shuffle = False))\n",
    "print(\"-----------------------------------------------------------------------------\")\n",
    "for key in sorted(nn_results):\n",
    "    print(\"%s: %s\" % (key, nn_results[key]))"
   ]
  },
  {
   "cell_type": "markdown",
   "metadata": {},
   "source": [
    "Not a massive difference. What if we try smaller learning rate and smaller batch size?"
   ]
  },
  {
   "cell_type": "code",
   "execution_count": 66,
   "metadata": {},
   "outputs": [
    {
     "name": "stdout",
     "output_type": "stream",
     "text": [
      "INFO:tensorflow:Using default config.\n",
      "INFO:tensorflow:Using config: {'_save_checkpoints_steps': None, '_session_config': None, '_model_dir': 'tmp_model', '_save_checkpoints_secs': 600, '_save_summary_steps': 100, '_tf_random_seed': 1, '_keep_checkpoint_max': 5, '_log_step_count_steps': 100, '_keep_checkpoint_every_n_hours': 10000}\n"
     ]
    }
   ],
   "source": [
    "shutil.rmtree('tmp_model',  ignore_errors=True)\n",
    "\n",
    "nn_model = tf.estimator.DNNClassifier(\n",
    "    model_dir = 'tmp_model',\n",
    "    feature_columns=numerical_features + categorical_features + crossed_features,\n",
    "    hidden_units=[256, 128, 64],\n",
    "    n_classes=2,\n",
    "    optimizer = tf.train.GradientDescentOptimizer(learning_rate = 0.001)\n",
    ")"
   ]
  },
  {
   "cell_type": "code",
   "execution_count": 67,
   "metadata": {},
   "outputs": [
    {
     "name": "stdout",
     "output_type": "stream",
     "text": [
      "INFO:tensorflow:Create CheckpointSaverHook.\n",
      "INFO:tensorflow:Saving checkpoints for 1 into tmp_model\\model.ckpt.\n",
      "INFO:tensorflow:step = 1, loss = 41.068\n",
      "INFO:tensorflow:global_step/sec: 12.41\n",
      "INFO:tensorflow:step = 101, loss = 33.5877 (8.080 sec)\n",
      "INFO:tensorflow:global_step/sec: 12.0817\n",
      "INFO:tensorflow:step = 201, loss = 16.9164 (8.279 sec)\n",
      "INFO:tensorflow:global_step/sec: 11.7426\n",
      "INFO:tensorflow:step = 301, loss = 23.2741 (8.515 sec)\n",
      "INFO:tensorflow:global_step/sec: 11.6144\n",
      "INFO:tensorflow:step = 401, loss = 16.6063 (8.609 sec)\n",
      "INFO:tensorflow:global_step/sec: 11.8299\n",
      "INFO:tensorflow:step = 501, loss = 9.00706 (8.456 sec)\n",
      "INFO:tensorflow:Saving checkpoints for 573 into tmp_model\\model.ckpt.\n",
      "INFO:tensorflow:Loss for final step: 10.3796.\n"
     ]
    }
   ],
   "source": [
    "nn_model = nn_model.train(\n",
    "    input_fn=tf.estimator.inputs.pandas_input_fn(\n",
    "        x = X_train, y = y_train, batch_size = 64, num_epochs = 10, shuffle = True))"
   ]
  },
  {
   "cell_type": "code",
   "execution_count": 68,
   "metadata": {},
   "outputs": [
    {
     "name": "stdout",
     "output_type": "stream",
     "text": [
      "WARNING:tensorflow:Casting <dtype: 'float32'> labels to bool.\n",
      "WARNING:tensorflow:Casting <dtype: 'float32'> labels to bool.\n",
      "INFO:tensorflow:Starting evaluation at 2017-11-03-18:58:55\n",
      "INFO:tensorflow:Restoring parameters from tmp_model\\model.ckpt-573\n",
      "INFO:tensorflow:Finished evaluation at 2017-11-03-18:59:00\n",
      "INFO:tensorflow:Saving dict for global step 573: accuracy = 0.842966, accuracy_baseline = 0.845147, auc = 0.737528, auc_precision_recall = 0.934645, average_loss = 0.45546, global_step = 573, label/mean = 0.845147, loss = 104.414, prediction/mean = 0.865341\n",
      "-----------------------------------------------------------------------------\n",
      "accuracy: 0.842966\n",
      "accuracy_baseline: 0.845147\n",
      "auc: 0.737528\n",
      "auc_precision_recall: 0.934645\n",
      "average_loss: 0.45546\n",
      "global_step: 573\n",
      "label/mean: 0.845147\n",
      "loss: 104.414\n",
      "prediction/mean: 0.865341\n"
     ]
    }
   ],
   "source": [
    "nn_results = nn_model.evaluate(\n",
    "    input_fn=tf.estimator.inputs.pandas_input_fn(\n",
    "        x = X_valid, y = y_valid, batch_size = 256, num_epochs = 1, shuffle = False))\n",
    "print(\"-----------------------------------------------------------------------------\")\n",
    "for key in sorted(nn_results):\n",
    "    print(\"%s: %s\" % (key, nn_results[key]))"
   ]
  },
  {
   "cell_type": "markdown",
   "metadata": {},
   "source": [
    "Similar performance. Lets use a better optimizer that can adjust our learning rate accordingly."
   ]
  },
  {
   "cell_type": "code",
   "execution_count": 69,
   "metadata": {},
   "outputs": [
    {
     "name": "stdout",
     "output_type": "stream",
     "text": [
      "INFO:tensorflow:Using default config.\n",
      "INFO:tensorflow:Using config: {'_save_checkpoints_steps': None, '_session_config': None, '_model_dir': 'tmp_model', '_save_checkpoints_secs': 600, '_save_summary_steps': 100, '_tf_random_seed': 1, '_keep_checkpoint_max': 5, '_log_step_count_steps': 100, '_keep_checkpoint_every_n_hours': 10000}\n"
     ]
    }
   ],
   "source": [
    "shutil.rmtree('tmp_model',  ignore_errors=True)\n",
    "\n",
    "nn_model = tf.estimator.DNNClassifier(\n",
    "    model_dir = 'tmp_model',\n",
    "    feature_columns=numerical_features + categorical_features + crossed_features,\n",
    "    hidden_units=[256, 128, 64],\n",
    "    n_classes=2,\n",
    "    optimizer = tf.train.AdamOptimizer(learning_rate=0.001)\n",
    ")"
   ]
  },
  {
   "cell_type": "code",
   "execution_count": 70,
   "metadata": {},
   "outputs": [
    {
     "name": "stdout",
     "output_type": "stream",
     "text": [
      "INFO:tensorflow:Create CheckpointSaverHook.\n",
      "INFO:tensorflow:Saving checkpoints for 1 into tmp_model\\model.ckpt.\n",
      "INFO:tensorflow:step = 1, loss = 41.7877\n",
      "INFO:tensorflow:global_step/sec: 12.1921\n",
      "INFO:tensorflow:step = 101, loss = 21.5559 (8.226 sec)\n",
      "INFO:tensorflow:global_step/sec: 11.9688\n",
      "INFO:tensorflow:step = 201, loss = 12.0183 (8.353 sec)\n",
      "INFO:tensorflow:global_step/sec: 11.9359\n",
      "INFO:tensorflow:step = 301, loss = 11.473 (8.381 sec)\n",
      "INFO:tensorflow:global_step/sec: 12.038\n",
      "INFO:tensorflow:step = 401, loss = 10.6377 (8.305 sec)\n",
      "INFO:tensorflow:global_step/sec: 8.5019\n",
      "INFO:tensorflow:step = 501, loss = 13.3235 (11.762 sec)\n",
      "INFO:tensorflow:Saving checkpoints for 573 into tmp_model\\model.ckpt.\n",
      "INFO:tensorflow:Loss for final step: 5.4964.\n"
     ]
    }
   ],
   "source": [
    "nn_model = nn_model.train(\n",
    "    input_fn=tf.estimator.inputs.pandas_input_fn(\n",
    "        x = X_train, y = y_train, batch_size = 64, num_epochs = 10, shuffle = True))"
   ]
  },
  {
   "cell_type": "code",
   "execution_count": 71,
   "metadata": {},
   "outputs": [
    {
     "name": "stdout",
     "output_type": "stream",
     "text": [
      "WARNING:tensorflow:Casting <dtype: 'float32'> labels to bool.\n",
      "WARNING:tensorflow:Casting <dtype: 'float32'> labels to bool.\n",
      "INFO:tensorflow:Starting evaluation at 2017-11-03-19:02:04\n",
      "INFO:tensorflow:Restoring parameters from tmp_model\\model.ckpt-573\n",
      "INFO:tensorflow:Finished evaluation at 2017-11-03-19:02:09\n",
      "INFO:tensorflow:Saving dict for global step 573: accuracy = 0.834242, accuracy_baseline = 0.845147, auc = 0.760154, auc_precision_recall = 0.947507, average_loss = 0.710824, global_step = 573, label/mean = 0.845147, loss = 162.956, prediction/mean = 0.849589\n",
      "-----------------------------------------------------------------------------\n",
      "accuracy: 0.834242\n",
      "accuracy_baseline: 0.845147\n",
      "auc: 0.760154\n",
      "auc_precision_recall: 0.947507\n",
      "average_loss: 0.710824\n",
      "global_step: 573\n",
      "label/mean: 0.845147\n",
      "loss: 162.956\n",
      "prediction/mean: 0.849589\n"
     ]
    }
   ],
   "source": [
    "nn_results = nn_model.evaluate(\n",
    "    input_fn=tf.estimator.inputs.pandas_input_fn(\n",
    "        x = X_valid, y = y_valid, batch_size = 256, num_epochs = 1, shuffle = False))\n",
    "print(\"-----------------------------------------------------------------------------\")\n",
    "for key in sorted(nn_results):\n",
    "    print(\"%s: %s\" % (key, nn_results[key]))"
   ]
  },
  {
   "cell_type": "markdown",
   "metadata": {},
   "source": [
    "That is a good AUC improvement. Maybe we could do even better if we let the network see our data more times?"
   ]
  },
  {
   "cell_type": "code",
   "execution_count": 72,
   "metadata": {},
   "outputs": [
    {
     "name": "stdout",
     "output_type": "stream",
     "text": [
      "INFO:tensorflow:Using default config.\n",
      "INFO:tensorflow:Using config: {'_save_checkpoints_steps': None, '_session_config': None, '_model_dir': 'tmp_model', '_save_checkpoints_secs': 600, '_save_summary_steps': 100, '_tf_random_seed': 1, '_keep_checkpoint_max': 5, '_log_step_count_steps': 100, '_keep_checkpoint_every_n_hours': 10000}\n"
     ]
    }
   ],
   "source": [
    "shutil.rmtree('tmp_model',  ignore_errors=True)\n",
    "\n",
    "nn_model = tf.estimator.DNNClassifier(\n",
    "    model_dir = 'tmp_model',\n",
    "    feature_columns=numerical_features + categorical_features + crossed_features,\n",
    "    hidden_units=[256, 128, 64],\n",
    "    n_classes=2,\n",
    "    optimizer = tf.train.AdamOptimizer(learning_rate=0.001)\n",
    ")"
   ]
  },
  {
   "cell_type": "code",
   "execution_count": 73,
   "metadata": {},
   "outputs": [
    {
     "name": "stdout",
     "output_type": "stream",
     "text": [
      "INFO:tensorflow:Create CheckpointSaverHook.\n",
      "INFO:tensorflow:Saving checkpoints for 1 into tmp_model\\model.ckpt.\n",
      "INFO:tensorflow:step = 1, loss = 42.7406\n",
      "INFO:tensorflow:global_step/sec: 12.2594\n",
      "INFO:tensorflow:step = 101, loss = 25.2398 (8.179 sec)\n",
      "INFO:tensorflow:global_step/sec: 11.7247\n",
      "INFO:tensorflow:step = 201, loss = 26.5427 (8.529 sec)\n",
      "INFO:tensorflow:global_step/sec: 8.50195\n",
      "INFO:tensorflow:step = 301, loss = 8.28508 (11.761 sec)\n",
      "INFO:tensorflow:global_step/sec: 12.0063\n",
      "INFO:tensorflow:step = 401, loss = 12.6647 (8.331 sec)\n",
      "INFO:tensorflow:global_step/sec: 12.0992\n",
      "INFO:tensorflow:step = 501, loss = 5.6665 (8.264 sec)\n",
      "INFO:tensorflow:global_step/sec: 11.8963\n",
      "INFO:tensorflow:step = 601, loss = 2.58963 (8.408 sec)\n",
      "INFO:tensorflow:global_step/sec: 11.8413\n",
      "INFO:tensorflow:step = 701, loss = 7.7251 (8.444 sec)\n",
      "INFO:tensorflow:global_step/sec: 12.0077\n",
      "INFO:tensorflow:step = 801, loss = 4.92599 (8.329 sec)\n",
      "INFO:tensorflow:Saving checkpoints for 860 into tmp_model\\model.ckpt.\n",
      "INFO:tensorflow:Loss for final step: 0.593664.\n"
     ]
    }
   ],
   "source": [
    "nn_model = nn_model.train(\n",
    "    input_fn=tf.estimator.inputs.pandas_input_fn(\n",
    "        # 15 epochs instead of 10\n",
    "        x = X_train, y = y_train, batch_size = 64, num_epochs = 15, shuffle = True))"
   ]
  },
  {
   "cell_type": "code",
   "execution_count": 74,
   "metadata": {},
   "outputs": [
    {
     "name": "stdout",
     "output_type": "stream",
     "text": [
      "WARNING:tensorflow:Casting <dtype: 'float32'> labels to bool.\n",
      "WARNING:tensorflow:Casting <dtype: 'float32'> labels to bool.\n",
      "INFO:tensorflow:Starting evaluation at 2017-11-03-19:06:53\n",
      "INFO:tensorflow:Restoring parameters from tmp_model\\model.ckpt-860\n",
      "INFO:tensorflow:Finished evaluation at 2017-11-03-19:06:59\n",
      "INFO:tensorflow:Saving dict for global step 860: accuracy = 0.844057, accuracy_baseline = 0.845147, auc = 0.780132, auc_precision_recall = 0.954262, average_loss = 0.830995, global_step = 860, label/mean = 0.845147, loss = 190.506, prediction/mean = 0.846936\n",
      "-----------------------------------------------------------------------------\n",
      "accuracy: 0.844057\n",
      "accuracy_baseline: 0.845147\n",
      "auc: 0.780132\n",
      "auc_precision_recall: 0.954262\n",
      "average_loss: 0.830995\n",
      "global_step: 860\n",
      "label/mean: 0.845147\n",
      "loss: 190.506\n",
      "prediction/mean: 0.846936\n"
     ]
    }
   ],
   "source": [
    "nn_results = nn_model.evaluate(\n",
    "    input_fn=tf.estimator.inputs.pandas_input_fn(\n",
    "        x = X_valid, y = y_valid, batch_size = 256, num_epochs = 1, shuffle = False))\n",
    "print(\"-----------------------------------------------------------------------------\")\n",
    "for key in sorted(nn_results):\n",
    "    print(\"%s: %s\" % (key, nn_results[key]))"
   ]
  },
  {
   "cell_type": "markdown",
   "metadata": {},
   "source": [
    "That is great, the AUC went up. I shall try this model on the Kaggle competition."
   ]
  },
  {
   "cell_type": "code",
   "execution_count": 75,
   "metadata": {
    "collapsed": true
   },
   "outputs": [],
   "source": [
    "nn_predict = nn_model.predict(\n",
    "    input_fn=tf.estimator.inputs.pandas_input_fn(x = X_test, y = None, batch_size = 256, num_epochs = 1, shuffle = False))"
   ]
  },
  {
   "cell_type": "code",
   "execution_count": 76,
   "metadata": {},
   "outputs": [
    {
     "name": "stdout",
     "output_type": "stream",
     "text": [
      "INFO:tensorflow:Restoring parameters from tmp_model\\model.ckpt-860\n"
     ]
    }
   ],
   "source": [
    "nn_results = list(nn_predict)"
   ]
  },
  {
   "cell_type": "code",
   "execution_count": 77,
   "metadata": {
    "collapsed": true
   },
   "outputs": [],
   "source": [
    "p_hat = [r['probabilities'][1] for r in nn_results]\n",
    "test_df['output'] = p_hat\n",
    "test_df[['output']].to_csv('nn_solution.csv', index_label = 'id')\n",
    "test_df.drop('output', inplace = True, axis = 1)"
   ]
  },
  {
   "cell_type": "markdown",
   "metadata": {},
   "source": [
    "There was not an imporvement on my best submssion score and it looks like the model is overfitting (test AUC was much smaller). Lets regularize our model."
   ]
  },
  {
   "cell_type": "code",
   "execution_count": 90,
   "metadata": {},
   "outputs": [
    {
     "name": "stdout",
     "output_type": "stream",
     "text": [
      "INFO:tensorflow:Using default config.\n",
      "INFO:tensorflow:Using config: {'_save_checkpoints_steps': None, '_session_config': None, '_model_dir': 'tmp_model', '_save_checkpoints_secs': 600, '_save_summary_steps': 100, '_tf_random_seed': 1, '_keep_checkpoint_max': 5, '_log_step_count_steps': 100, '_keep_checkpoint_every_n_hours': 10000}\n",
      "INFO:tensorflow:Create CheckpointSaverHook.\n",
      "INFO:tensorflow:Saving checkpoints for 1 into tmp_model\\model.ckpt.\n",
      "INFO:tensorflow:step = 1, loss = 61.9264\n",
      "INFO:tensorflow:global_step/sec: 11.6796\n",
      "INFO:tensorflow:step = 101, loss = 28.9222 (8.585 sec)\n",
      "INFO:tensorflow:global_step/sec: 11.3085\n",
      "INFO:tensorflow:step = 201, loss = 33.1646 (8.857 sec)\n",
      "INFO:tensorflow:global_step/sec: 11.3534\n",
      "INFO:tensorflow:step = 301, loss = 23.0083 (8.796 sec)\n",
      "INFO:tensorflow:global_step/sec: 11.2159\n",
      "INFO:tensorflow:step = 401, loss = 21.7299 (8.918 sec)\n",
      "INFO:tensorflow:global_step/sec: 11.3482\n",
      "INFO:tensorflow:step = 501, loss = 19.63 (8.808 sec)\n",
      "INFO:tensorflow:global_step/sec: 11.1334\n",
      "INFO:tensorflow:step = 601, loss = 17.2945 (8.984 sec)\n",
      "INFO:tensorflow:global_step/sec: 11.3354\n",
      "INFO:tensorflow:step = 701, loss = 10.5241 (8.820 sec)\n",
      "INFO:tensorflow:global_step/sec: 11.3405\n",
      "INFO:tensorflow:step = 801, loss = 26.4642 (8.819 sec)\n",
      "INFO:tensorflow:Saving checkpoints for 860 into tmp_model\\model.ckpt.\n",
      "INFO:tensorflow:Loss for final step: 9.04911.\n",
      "WARNING:tensorflow:Casting <dtype: 'float32'> labels to bool.\n",
      "WARNING:tensorflow:Casting <dtype: 'float32'> labels to bool.\n",
      "INFO:tensorflow:Starting evaluation at 2017-11-03-21:27:29\n",
      "INFO:tensorflow:Restoring parameters from tmp_model\\model.ckpt-860\n",
      "INFO:tensorflow:Finished evaluation at 2017-11-03-21:27:35\n",
      "INFO:tensorflow:Saving dict for global step 860: accuracy = 0.845147, accuracy_baseline = 0.845147, auc = 0.794498, auc_precision_recall = 0.952399, average_loss = 0.459527, global_step = 860, label/mean = 0.845147, loss = 105.347, prediction/mean = 0.82519\n",
      "INFO:tensorflow:Using default config.\n",
      "INFO:tensorflow:Using config: {'_save_checkpoints_steps': None, '_session_config': None, '_model_dir': 'tmp_model', '_save_checkpoints_secs': 600, '_save_summary_steps': 100, '_tf_random_seed': 1, '_keep_checkpoint_max': 5, '_log_step_count_steps': 100, '_keep_checkpoint_every_n_hours': 10000}\n",
      "INFO:tensorflow:Create CheckpointSaverHook.\n",
      "INFO:tensorflow:Saving checkpoints for 1 into tmp_model\\model.ckpt.\n",
      "INFO:tensorflow:step = 1, loss = 62.0689\n",
      "INFO:tensorflow:global_step/sec: 11.7083\n",
      "INFO:tensorflow:step = 101, loss = 32.3952 (8.564 sec)\n",
      "INFO:tensorflow:global_step/sec: 11.443\n",
      "INFO:tensorflow:step = 201, loss = 33.6793 (8.735 sec)\n",
      "INFO:tensorflow:global_step/sec: 11.3097\n",
      "INFO:tensorflow:step = 301, loss = 28.1031 (8.846 sec)\n",
      "INFO:tensorflow:global_step/sec: 11.3263\n",
      "INFO:tensorflow:step = 401, loss = 17.8411 (8.828 sec)\n",
      "INFO:tensorflow:global_step/sec: 11.4364\n",
      "INFO:tensorflow:step = 501, loss = 20.1329 (8.746 sec)\n",
      "INFO:tensorflow:global_step/sec: 11.3469\n",
      "INFO:tensorflow:step = 601, loss = 23.2966 (8.811 sec)\n",
      "INFO:tensorflow:global_step/sec: 11.3882\n",
      "INFO:tensorflow:step = 701, loss = 19.156 (8.782 sec)\n",
      "INFO:tensorflow:global_step/sec: 11.2752\n",
      "INFO:tensorflow:step = 801, loss = 20.9364 (8.870 sec)\n",
      "INFO:tensorflow:Saving checkpoints for 860 into tmp_model\\model.ckpt.\n",
      "INFO:tensorflow:Loss for final step: 3.00326.\n",
      "WARNING:tensorflow:Casting <dtype: 'float32'> labels to bool.\n",
      "WARNING:tensorflow:Casting <dtype: 'float32'> labels to bool.\n",
      "INFO:tensorflow:Starting evaluation at 2017-11-03-21:29:43\n",
      "INFO:tensorflow:Restoring parameters from tmp_model\\model.ckpt-860\n",
      "INFO:tensorflow:Finished evaluation at 2017-11-03-21:29:48\n",
      "INFO:tensorflow:Saving dict for global step 860: accuracy = 0.8506, accuracy_baseline = 0.845147, auc = 0.791068, auc_precision_recall = 0.953164, average_loss = 0.395404, global_step = 860, label/mean = 0.845147, loss = 90.6463, prediction/mean = 0.842094\n",
      "INFO:tensorflow:Using default config.\n",
      "INFO:tensorflow:Using config: {'_save_checkpoints_steps': None, '_session_config': None, '_model_dir': 'tmp_model', '_save_checkpoints_secs': 600, '_save_summary_steps': 100, '_tf_random_seed': 1, '_keep_checkpoint_max': 5, '_log_step_count_steps': 100, '_keep_checkpoint_every_n_hours': 10000}\n",
      "INFO:tensorflow:Create CheckpointSaverHook.\n",
      "INFO:tensorflow:Saving checkpoints for 1 into tmp_model\\model.ckpt.\n",
      "INFO:tensorflow:step = 1, loss = 55.9893\n",
      "INFO:tensorflow:global_step/sec: 11.4653\n",
      "INFO:tensorflow:step = 101, loss = 36.377 (8.741 sec)\n",
      "INFO:tensorflow:global_step/sec: 11.1919\n",
      "INFO:tensorflow:step = 201, loss = 23.0573 (8.940 sec)\n",
      "INFO:tensorflow:global_step/sec: 11.0583\n",
      "INFO:tensorflow:step = 301, loss = 27.7333 (9.043 sec)\n",
      "INFO:tensorflow:global_step/sec: 11.2095\n",
      "INFO:tensorflow:step = 401, loss = 32.1191 (8.923 sec)\n",
      "INFO:tensorflow:global_step/sec: 11.1944\n",
      "INFO:tensorflow:step = 501, loss = 26.2343 (8.931 sec)\n",
      "INFO:tensorflow:global_step/sec: 11.3084\n",
      "INFO:tensorflow:step = 601, loss = 28.0743 (8.879 sec)\n",
      "INFO:tensorflow:global_step/sec: 11.2334\n",
      "INFO:tensorflow:step = 701, loss = 24.3125 (8.865 sec)\n",
      "INFO:tensorflow:global_step/sec: 11.2334\n",
      "INFO:tensorflow:step = 801, loss = 17.5792 (8.903 sec)\n",
      "INFO:tensorflow:Saving checkpoints for 860 into tmp_model\\model.ckpt.\n",
      "INFO:tensorflow:Loss for final step: 12.4471.\n",
      "WARNING:tensorflow:Casting <dtype: 'float32'> labels to bool.\n",
      "WARNING:tensorflow:Casting <dtype: 'float32'> labels to bool.\n",
      "INFO:tensorflow:Starting evaluation at 2017-11-03-21:32:54\n",
      "INFO:tensorflow:Restoring parameters from tmp_model\\model.ckpt-860\n",
      "INFO:tensorflow:Finished evaluation at 2017-11-03-21:32:59\n",
      "INFO:tensorflow:Saving dict for global step 860: accuracy = 0.856052, accuracy_baseline = 0.845147, auc = 0.788373, auc_precision_recall = 0.951431, average_loss = 0.366687, global_step = 860, label/mean = 0.845147, loss = 84.063, prediction/mean = 0.835399\n",
      "INFO:tensorflow:Using default config.\n",
      "INFO:tensorflow:Using config: {'_save_checkpoints_steps': None, '_session_config': None, '_model_dir': 'tmp_model', '_save_checkpoints_secs': 600, '_save_summary_steps': 100, '_tf_random_seed': 1, '_keep_checkpoint_max': 5, '_log_step_count_steps': 100, '_keep_checkpoint_every_n_hours': 10000}\n",
      "INFO:tensorflow:Create CheckpointSaverHook.\n",
      "INFO:tensorflow:Saving checkpoints for 1 into tmp_model\\model.ckpt.\n",
      "INFO:tensorflow:step = 1, loss = 90.41\n",
      "INFO:tensorflow:global_step/sec: 11.7633\n",
      "INFO:tensorflow:step = 101, loss = 32.0914 (8.520 sec)\n",
      "INFO:tensorflow:global_step/sec: 11.4534\n",
      "INFO:tensorflow:step = 201, loss = 37.3545 (8.735 sec)\n",
      "INFO:tensorflow:global_step/sec: 11.1924\n",
      "INFO:tensorflow:step = 301, loss = 25.5001 (8.932 sec)\n",
      "INFO:tensorflow:global_step/sec: 10.9285\n",
      "INFO:tensorflow:step = 401, loss = 30.0571 (9.145 sec)\n",
      "INFO:tensorflow:global_step/sec: 11.3392\n",
      "INFO:tensorflow:step = 501, loss = 28.3516 (8.850 sec)\n",
      "INFO:tensorflow:global_step/sec: 11.4247\n",
      "INFO:tensorflow:step = 601, loss = 22.5449 (8.732 sec)\n",
      "INFO:tensorflow:global_step/sec: 11.2196\n",
      "INFO:tensorflow:step = 701, loss = 17.1627 (8.913 sec)\n",
      "INFO:tensorflow:global_step/sec: 11.3921\n",
      "INFO:tensorflow:step = 801, loss = 25.6011 (8.777 sec)\n",
      "INFO:tensorflow:Saving checkpoints for 860 into tmp_model\\model.ckpt.\n",
      "INFO:tensorflow:Loss for final step: 11.8094.\n",
      "WARNING:tensorflow:Casting <dtype: 'float32'> labels to bool.\n",
      "WARNING:tensorflow:Casting <dtype: 'float32'> labels to bool.\n",
      "INFO:tensorflow:Starting evaluation at 2017-11-03-21:35:08\n",
      "INFO:tensorflow:Restoring parameters from tmp_model\\model.ckpt-860\n",
      "INFO:tensorflow:Finished evaluation at 2017-11-03-21:35:14\n",
      "INFO:tensorflow:Saving dict for global step 860: accuracy = 0.845147, accuracy_baseline = 0.845147, auc = 0.73786, auc_precision_recall = 0.936463, average_loss = 0.405012, global_step = 860, label/mean = 0.845147, loss = 92.8489, prediction/mean = 0.771058\n",
      "INFO:tensorflow:Using default config.\n",
      "INFO:tensorflow:Using config: {'_save_checkpoints_steps': None, '_session_config': None, '_model_dir': 'tmp_model', '_save_checkpoints_secs': 600, '_save_summary_steps': 100, '_tf_random_seed': 1, '_keep_checkpoint_max': 5, '_log_step_count_steps': 100, '_keep_checkpoint_every_n_hours': 10000}\n",
      "INFO:tensorflow:Create CheckpointSaverHook.\n",
      "INFO:tensorflow:Saving checkpoints for 1 into tmp_model\\model.ckpt.\n",
      "INFO:tensorflow:step = 1, loss = 101.282\n"
     ]
    },
    {
     "name": "stdout",
     "output_type": "stream",
     "text": [
      "INFO:tensorflow:global_step/sec: 11.7619\n",
      "INFO:tensorflow:step = 101, loss = 49.4705 (8.527 sec)\n",
      "INFO:tensorflow:global_step/sec: 10.9111\n",
      "INFO:tensorflow:step = 201, loss = 26.9082 (9.153 sec)\n",
      "INFO:tensorflow:global_step/sec: 11.152\n",
      "INFO:tensorflow:step = 301, loss = 32.6905 (8.981 sec)\n",
      "INFO:tensorflow:global_step/sec: 11.2575\n",
      "INFO:tensorflow:step = 401, loss = 29.4895 (8.905 sec)\n",
      "INFO:tensorflow:global_step/sec: 11.1894\n",
      "INFO:tensorflow:step = 501, loss = 31.464 (8.915 sec)\n",
      "INFO:tensorflow:global_step/sec: 11.3109\n",
      "INFO:tensorflow:step = 601, loss = 38.6596 (8.838 sec)\n",
      "INFO:tensorflow:global_step/sec: 11.2233\n",
      "INFO:tensorflow:step = 701, loss = 33.7783 (8.911 sec)\n",
      "INFO:tensorflow:global_step/sec: 11.2259\n",
      "INFO:tensorflow:step = 801, loss = 32.4527 (8.905 sec)\n",
      "INFO:tensorflow:Saving checkpoints for 860 into tmp_model\\model.ckpt.\n",
      "INFO:tensorflow:Loss for final step: 19.7501.\n",
      "WARNING:tensorflow:Casting <dtype: 'float32'> labels to bool.\n",
      "WARNING:tensorflow:Casting <dtype: 'float32'> labels to bool.\n",
      "INFO:tensorflow:Starting evaluation at 2017-11-03-21:37:22\n",
      "INFO:tensorflow:Restoring parameters from tmp_model\\model.ckpt-860\n",
      "INFO:tensorflow:Finished evaluation at 2017-11-03-21:37:28\n",
      "INFO:tensorflow:Saving dict for global step 860: accuracy = 0.845147, accuracy_baseline = 0.845147, auc = 0.697974, auc_precision_recall = 0.927909, average_loss = 0.445965, global_step = 860, label/mean = 0.845147, loss = 102.237, prediction/mean = 0.72889\n"
     ]
    }
   ],
   "source": [
    "# regularize the model with dropouts\n",
    "# in this model the dropout parameter is the probability we will drop out a given coordinate\n",
    "# smaller dropout -> less regularization\n",
    "dropouts = [0.3, 0.4, 0.5, 0.6, 0.7]\n",
    "results = []\n",
    "for dropout in dropouts:\n",
    "    \n",
    "    shutil.rmtree('tmp_model',  ignore_errors=True)\n",
    "    \n",
    "    m = tf.estimator.DNNClassifier(\n",
    "        model_dir = 'tmp_model',\n",
    "        feature_columns=numerical_features + categorical_features + crossed_features,\n",
    "        hidden_units=[256, 128, 64],\n",
    "        dropout = dropout,\n",
    "        n_classes=2,\n",
    "        optimizer = tf.train.AdamOptimizer()\n",
    "    )    \n",
    "    m = m.train(\n",
    "        input_fn=tf.estimator.inputs.pandas_input_fn(\n",
    "            x = X_train, y = y_train, batch_size = 64, num_epochs = 15, shuffle = True))\n",
    "    r = m.evaluate(\n",
    "        input_fn=tf.estimator.inputs.pandas_input_fn(\n",
    "            x = X_valid, y = y_valid, batch_size = 256, num_epochs = 1, shuffle = False))\n",
    "    results.append(r)"
   ]
  },
  {
   "cell_type": "code",
   "execution_count": 91,
   "metadata": {
    "collapsed": true
   },
   "outputs": [],
   "source": [
    "accuracy = [r['accuracy'] for r in results]\n",
    "auc = [r['auc'] for r in results]"
   ]
  },
  {
   "cell_type": "code",
   "execution_count": 92,
   "metadata": {},
   "outputs": [
    {
     "data": {
      "text/plain": [
       "<matplotlib.legend.Legend at 0x16f26203320>"
      ]
     },
     "execution_count": 92,
     "metadata": {},
     "output_type": "execute_result"
    },
    {
     "data": {
      "image/png": "[encoded data removed]",
      "text/plain": [
       "<matplotlib.figure.Figure at 0x16f24a769e8>"
      ]
     },
     "metadata": {},
     "output_type": "display_data"
    }
   ],
   "source": [
    "plt.plot(dropouts, accuracy, label='accuracy')\n",
    "plt.plot(dropouts, auc, label='auc')\n",
    "plt.xlabel('Dropout rate')\n",
    "plt.title('NN model with [256, 256, 256] hidden ubits')\n",
    "plt.legend()"
   ]
  },
  {
   "cell_type": "markdown",
   "metadata": {},
   "source": [
    "Lets try 0.3 dropout"
   ]
  },
  {
   "cell_type": "code",
   "execution_count": 101,
   "metadata": {},
   "outputs": [
    {
     "name": "stdout",
     "output_type": "stream",
     "text": [
      "INFO:tensorflow:Using default config.\n",
      "INFO:tensorflow:Using config: {'_save_checkpoints_steps': None, '_session_config': None, '_model_dir': 'nn_model', '_save_checkpoints_secs': 600, '_save_summary_steps': 100, '_tf_random_seed': 1, '_keep_checkpoint_max': 5, '_log_step_count_steps': 100, '_keep_checkpoint_every_n_hours': 10000}\n"
     ]
    }
   ],
   "source": [
    "shutil.rmtree('nn_model',  ignore_errors=True)\n",
    "\n",
    "nn_model = tf.estimator.DNNClassifier(\n",
    "    model_dir = 'nn_model',\n",
    "    feature_columns=numerical_features + categorical_features + crossed_features,\n",
    "    hidden_units=[256, 128, 64],\n",
    "    n_classes=2,\n",
    "    dropout = 0.3,\n",
    "    optimizer = tf.train.AdamOptimizer()\n",
    ")"
   ]
  },
  {
   "cell_type": "code",
   "execution_count": 102,
   "metadata": {},
   "outputs": [
    {
     "name": "stdout",
     "output_type": "stream",
     "text": [
      "INFO:tensorflow:Create CheckpointSaverHook.\n",
      "INFO:tensorflow:Saving checkpoints for 1 into nn_model\\model.ckpt.\n",
      "INFO:tensorflow:step = 1, loss = 59.2754\n",
      "INFO:tensorflow:global_step/sec: 11.7\n",
      "INFO:tensorflow:step = 101, loss = 22.9467 (8.567 sec)\n",
      "INFO:tensorflow:global_step/sec: 11.4732\n",
      "INFO:tensorflow:step = 201, loss = 22.7593 (8.720 sec)\n",
      "INFO:tensorflow:global_step/sec: 11.3636\n",
      "INFO:tensorflow:step = 301, loss = 14.2054 (8.804 sec)\n",
      "INFO:tensorflow:global_step/sec: 11.4824\n",
      "INFO:tensorflow:step = 401, loss = 21.9978 (8.704 sec)\n",
      "INFO:tensorflow:global_step/sec: 11.383\n",
      "INFO:tensorflow:step = 501, loss = 20.2799 (8.786 sec)\n",
      "INFO:tensorflow:global_step/sec: 11.3895\n",
      "INFO:tensorflow:step = 601, loss = 24.0107 (8.778 sec)\n",
      "INFO:tensorflow:global_step/sec: 11.4351\n",
      "INFO:tensorflow:step = 701, loss = 13.3417 (8.745 sec)\n",
      "INFO:tensorflow:global_step/sec: 11.422\n",
      "INFO:tensorflow:step = 801, loss = 8.68458 (8.757 sec)\n",
      "INFO:tensorflow:Saving checkpoints for 860 into nn_model\\model.ckpt.\n",
      "INFO:tensorflow:Loss for final step: 5.94505.\n"
     ]
    }
   ],
   "source": [
    "nn_model = nn_model.train(\n",
    "    input_fn=tf.estimator.inputs.pandas_input_fn(\n",
    "        x = X_train, y = y_train, batch_size = 64, num_epochs = 15, shuffle = True))"
   ]
  },
  {
   "cell_type": "code",
   "execution_count": 103,
   "metadata": {},
   "outputs": [
    {
     "name": "stdout",
     "output_type": "stream",
     "text": [
      "WARNING:tensorflow:Casting <dtype: 'float32'> labels to bool.\n",
      "WARNING:tensorflow:Casting <dtype: 'float32'> labels to bool.\n",
      "INFO:tensorflow:Starting evaluation at 2017-11-03-21:58:24\n",
      "INFO:tensorflow:Restoring parameters from nn_model\\model.ckpt-860\n",
      "INFO:tensorflow:Finished evaluation at 2017-11-03-21:58:30\n",
      "INFO:tensorflow:Saving dict for global step 860: accuracy = 0.832061, accuracy_baseline = 0.845147, auc = 0.782558, auc_precision_recall = 0.950558, average_loss = 0.456574, global_step = 860, label/mean = 0.845147, loss = 104.67, prediction/mean = 0.81739\n",
      "-----------------------------------------------------------------------------\n",
      "accuracy: 0.832061\n",
      "accuracy_baseline: 0.845147\n",
      "auc: 0.782558\n",
      "auc_precision_recall: 0.950558\n",
      "average_loss: 0.456574\n",
      "global_step: 860\n",
      "label/mean: 0.845147\n",
      "loss: 104.67\n",
      "prediction/mean: 0.81739\n"
     ]
    }
   ],
   "source": [
    "nn_results = nn_model.evaluate(\n",
    "    input_fn=tf.estimator.inputs.pandas_input_fn(\n",
    "        x = X_valid, y = y_valid, batch_size = 256, num_epochs = 1, shuffle = False))\n",
    "print(\"-----------------------------------------------------------------------------\")\n",
    "for key in sorted(nn_results):\n",
    "    print(\"%s: %s\" % (key, nn_results[key]))"
   ]
  },
  {
   "cell_type": "markdown",
   "metadata": {},
   "source": [
    "#### Prepare the Kaggle submission"
   ]
  },
  {
   "cell_type": "code",
   "execution_count": 104,
   "metadata": {
    "collapsed": true
   },
   "outputs": [],
   "source": [
    "nn_predict = nn_model.predict(\n",
    "    input_fn=tf.estimator.inputs.pandas_input_fn(x = X_test, y = None, batch_size = 256, num_epochs = 1, shuffle = False))"
   ]
  },
  {
   "cell_type": "code",
   "execution_count": 105,
   "metadata": {},
   "outputs": [
    {
     "name": "stdout",
     "output_type": "stream",
     "text": [
      "INFO:tensorflow:Restoring parameters from nn_model\\model.ckpt-860\n"
     ]
    }
   ],
   "source": [
    "nn_results = list(nn_predict)"
   ]
  },
  {
   "cell_type": "code",
   "execution_count": 106,
   "metadata": {
    "collapsed": true
   },
   "outputs": [],
   "source": [
    "p_hat = [r['probabilities'][1] for r in nn_results]\n",
    "test_df['output'] = p_hat\n",
    "test_df[['output']].to_csv('nn_solution.csv', index_label = 'id')\n",
    "test_df.drop('output', inplace = True, axis = 1)"
   ]
  },
  {
   "cell_type": "markdown",
   "metadata": {},
   "source": [
    "Unfortunately the score was not an improvement on the non-regularized model."
   ]
  },
  {
   "cell_type": "markdown",
   "metadata": {
    "collapsed": true
   },
   "source": [
    "#### Custom NN model\n",
    "Custom NN model with a special loss function to deal with the class imbalance. The positive class loss is reduced proportionally.  Also a good opprotunity to learn how to create a custom model based on the tf.estimator.Estimator class. it is  more flexible than the DNNClassifier. Here for example we als added batch normalization layers."
   ]
  },
  {
   "cell_type": "code",
   "execution_count": 135,
   "metadata": {
    "collapsed": true
   },
   "outputs": [],
   "source": [
    "def custom_model_fn(features, labels, mode, params, config):\n",
    "\n",
    "    input_layer = tf.feature_column.input_layer(\n",
    "        features = features,\n",
    "        feature_columns = numerical_features + categorical_features + crossed_features\n",
    "    )\n",
    "    \n",
    "    training = (mode == tf.estimator.ModeKeys.TRAIN)\n",
    "\n",
    "    global_step = tf.contrib.framework.get_or_create_global_step()\n",
    "\n",
    "    x = tf.layers.dense(\n",
    "        inputs=input_layer,\n",
    "        units=256,\n",
    "        activation=None,\n",
    "        name=\"layer1\"\n",
    "    )\n",
    "    \n",
    "    x = tf.layers.batch_normalization(\n",
    "        inputs=x,\n",
    "        training = training,\n",
    "        name='bn12'\n",
    "    )\n",
    "\n",
    "    x = tf.nn.relu(x, name='relu112')\n",
    "\n",
    "    x = tf.layers.dropout(\n",
    "        inputs=x,\n",
    "        rate = params.dropout,\n",
    "        training = training,\n",
    "        name=\"dropout12\"\n",
    "    )\n",
    "\n",
    "    x = tf.layers.dense(\n",
    "        inputs=x,\n",
    "        units=128,\n",
    "        activation=None,\n",
    "        name=\"layer2\"\n",
    "    )\n",
    "    \n",
    "    x = tf.layers.batch_normalization(\n",
    "        inputs=x,\n",
    "        training = training,\n",
    "        name='bn23'\n",
    "    )\n",
    "\n",
    "    x = tf.nn.relu(x, name='relu23')\n",
    "\n",
    "    x = tf.layers.dropout(\n",
    "        inputs=x,\n",
    "        rate = params.dropout,\n",
    "        training = training,\n",
    "        name=\"dropout23\"\n",
    "    )\n",
    "\n",
    "    x = tf.layers.dense(\n",
    "        inputs=x,\n",
    "        units=64,\n",
    "        activation=None,\n",
    "        name=\"layer3\"\n",
    "    )\n",
    "\n",
    "    x = tf.layers.batch_normalization(\n",
    "        inputs=x,\n",
    "        training = training,\n",
    "        name='bn34'\n",
    "    )\n",
    "    \n",
    "    x = tf.nn.relu(x, name='relu34')\n",
    "\n",
    "    x = tf.layers.dropout(\n",
    "        inputs=x,\n",
    "        rate = params.dropout,\n",
    "        training = training,\n",
    "        name=\"dropout34\"\n",
    "    )\n",
    "\n",
    "    # logits for two classes\n",
    "    logits = tf.layers.dense(\n",
    "        inputs=x, \n",
    "        units=2, \n",
    "        activation=None\n",
    "    )\n",
    "\n",
    "    predictions = {\n",
    "        \"classes\": tf.argmax(input=logits, axis=1),\n",
    "        \"probabilities\": tf.nn.softmax(logits, name=\"softmax_tensor\")\n",
    "    }\n",
    "\n",
    "    if mode == tf.estimator.ModeKeys.PREDICT:\n",
    "        return tf.estimator.EstimatorSpec(mode=mode, predictions=predictions)\n",
    "\n",
    "    # convert labels into one-hot encodinf array\n",
    "    # label = o, array element = [1, 0]\n",
    "    # label = 1, array element = [0, 1]\n",
    "    targets = tf.one_hot(indices=tf.cast(labels, tf.int32), depth=2)\n",
    "    \n",
    "    loss = tf.reduce_mean(\n",
    "        tf.nn.weighted_cross_entropy_with_logits(\n",
    "            targets = targets,\n",
    "            logits = logits,\n",
    "            pos_weight = 0.2  # penalize the dominating class\n",
    "        )\n",
    "    )\n",
    "\n",
    "    if mode == tf.estimator.ModeKeys.TRAIN:\n",
    "        optimizer = tf.train.AdamOptimizer()\n",
    "        train_op = optimizer.minimize(loss=loss, global_step = tf.train.get_global_step())\n",
    "        return tf.estimator.EstimatorSpec(mode=mode, loss=loss, train_op = train_op)\n",
    "\n",
    "    eval_metric_ops = {\n",
    "        \"accuracy\": tf.metrics.accuracy(labels=labels, predictions=predictions[\"classes\"]),\n",
    "        \"auc\": tf.metrics.auc(labels=labels, predictions=predictions[\"probabilities\"][:, 1]),\n",
    "        \"false_negatives\": tf.metrics.false_negatives(labels=labels, predictions=predictions[\"classes\"]),\n",
    "        \"false_positives\": tf.metrics.false_positives(labels=labels, predictions=predictions[\"classes\"])\n",
    "    }\n",
    "\n",
    "    return tf.estimator.EstimatorSpec(mode=mode, loss=loss, eval_metric_ops=eval_metric_ops)"
   ]
  },
  {
   "cell_type": "code",
   "execution_count": 136,
   "metadata": {},
   "outputs": [
    {
     "name": "stdout",
     "output_type": "stream",
     "text": [
      "INFO:tensorflow:Using default config.\n",
      "INFO:tensorflow:Using config: {'_save_checkpoints_steps': None, '_session_config': None, '_model_dir': 'custom_model', '_save_checkpoints_secs': 600, '_save_summary_steps': 100, '_tf_random_seed': 1, '_keep_checkpoint_max': 5, '_log_step_count_steps': 100, '_keep_checkpoint_every_n_hours': 10000}\n"
     ]
    }
   ],
   "source": [
    "hparams = tf.contrib.training.HParams(dropout = 0.2)\n",
    "\n",
    "shutil.rmtree('custom_model',  ignore_errors=True)\n",
    "\n",
    "custom_model = tf.estimator.Estimator(\n",
    "    model_dir = 'custom_model',\n",
    "    model_fn=custom_model_fn,\n",
    "    params=hparams\n",
    ")"
   ]
  },
  {
   "cell_type": "code",
   "execution_count": 109,
   "metadata": {
    "collapsed": true
   },
   "outputs": [],
   "source": [
    "# used for debugging but it produces quite big outout so not used for the final run\n",
    "logging_hook = tf.train.LoggingTensorHook(tensors = {\"probabilities\": \"softmax_tensor\"}, every_n_iter=250)"
   ]
  },
  {
   "cell_type": "code",
   "execution_count": 137,
   "metadata": {},
   "outputs": [
    {
     "name": "stdout",
     "output_type": "stream",
     "text": [
      "INFO:tensorflow:Create CheckpointSaverHook.\n",
      "INFO:tensorflow:Saving checkpoints for 1 into custom_model\\model.ckpt.\n",
      "INFO:tensorflow:step = 1, loss = 0.464862\n",
      "INFO:tensorflow:global_step/sec: 11.8036\n",
      "INFO:tensorflow:step = 101, loss = 0.179318 (8.496 sec)\n",
      "INFO:tensorflow:global_step/sec: 11.6618\n",
      "INFO:tensorflow:step = 201, loss = 0.16418 (8.574 sec)\n",
      "INFO:tensorflow:global_step/sec: 11.5942\n",
      "INFO:tensorflow:step = 301, loss = 0.120577 (8.624 sec)\n",
      "INFO:tensorflow:global_step/sec: 11.609\n",
      "INFO:tensorflow:step = 401, loss = 0.145985 (8.613 sec)\n",
      "INFO:tensorflow:global_step/sec: 8.66626\n",
      "INFO:tensorflow:step = 501, loss = 0.12732 (11.541 sec)\n",
      "INFO:tensorflow:global_step/sec: 11.636\n",
      "INFO:tensorflow:step = 601, loss = 0.0703638 (8.594 sec)\n",
      "INFO:tensorflow:global_step/sec: 11.5942\n",
      "INFO:tensorflow:step = 701, loss = 0.137016 (8.626 sec)\n",
      "INFO:tensorflow:global_step/sec: 11.5727\n",
      "INFO:tensorflow:step = 801, loss = 0.0707736 (8.640 sec)\n",
      "INFO:tensorflow:Saving checkpoints for 860 into custom_model\\model.ckpt.\n",
      "INFO:tensorflow:Loss for final step: 0.104746.\n"
     ]
    },
    {
     "data": {
      "text/plain": [
       "<tensorflow.python.estimator.estimator.Estimator at 0x16ecb94fc88>"
      ]
     },
     "execution_count": 137,
     "metadata": {},
     "output_type": "execute_result"
    }
   ],
   "source": [
    "custom_model.train(\n",
    "    input_fn=tf.estimator.inputs.pandas_input_fn(\n",
    "        x = X_train, y = y_train, batch_size = 64, num_epochs = 15, shuffle = True)\n",
    "    #hooks=[logging_hook]\n",
    ")"
   ]
  },
  {
   "cell_type": "code",
   "execution_count": 138,
   "metadata": {
    "scrolled": true
   },
   "outputs": [
    {
     "name": "stdout",
     "output_type": "stream",
     "text": [
      "INFO:tensorflow:Starting evaluation at 2017-11-03-22:36:57\n",
      "INFO:tensorflow:Restoring parameters from custom_model\\model.ckpt-860\n",
      "INFO:tensorflow:Finished evaluation at 2017-11-03-22:37:02\n",
      "INFO:tensorflow:Saving dict for global step 860: accuracy = 0.846238, auc = 0.686038, false_negatives = 31.0, false_positives = 110.0, global_step = 860, loss = 0.378409\n",
      "-----------------------------------------------------------------------------\n",
      "accuracy: 0.846238\n",
      "auc: 0.686038\n",
      "false_negatives: 31.0\n",
      "false_positives: 110.0\n",
      "global_step: 860\n",
      "loss: 0.378409\n"
     ]
    }
   ],
   "source": [
    "custom_results = custom_model.evaluate(\n",
    "    input_fn=tf.estimator.inputs.pandas_input_fn(\n",
    "        x = X_valid, y = y_valid, batch_size = 256, num_epochs = 1, shuffle = False))\n",
    "print(\"-----------------------------------------------------------------------------\")\n",
    "for key in sorted(custom_results):\n",
    "    print(\"%s: %s\" % (key, custom_results[key]))"
   ]
  },
  {
   "cell_type": "markdown",
   "metadata": {},
   "source": [
    "#### Prepare the Kaggle submission"
   ]
  },
  {
   "cell_type": "code",
   "execution_count": 139,
   "metadata": {
    "collapsed": true
   },
   "outputs": [],
   "source": [
    "custom_predict = custom_model.predict(\n",
    "    input_fn=tf.estimator.inputs.pandas_input_fn(\n",
    "        x = X_test, y = None, batch_size = 256, num_epochs = 1, shuffle = False, num_threads = 1)\n",
    ")"
   ]
  },
  {
   "cell_type": "code",
   "execution_count": 140,
   "metadata": {},
   "outputs": [
    {
     "name": "stdout",
     "output_type": "stream",
     "text": [
      "INFO:tensorflow:Restoring parameters from custom_model\\model.ckpt-860\n"
     ]
    }
   ],
   "source": [
    "custom_results = list(custom_predict)"
   ]
  },
  {
   "cell_type": "code",
   "execution_count": 120,
   "metadata": {
    "collapsed": true
   },
   "outputs": [],
   "source": [
    "p_hat = [r['probabilities'][1] for r in custom_results]\n",
    "test_df['output'] = p_hat\n",
    "test_df[['output']].to_csv('custom_solution.csv', index_label = 'id')\n",
    "test_df.drop('output', inplace = True, axis = 1)"
   ]
  },
  {
   "cell_type": "markdown",
   "metadata": {
    "collapsed": true
   },
   "source": [
    "This was the best result from the NN based model but still not as good as the random forest model. We've not used all the engineered features here to check if the NN based model can figure out the best features itself.  \n",
    "The overall impression is that NN based models have a lot of parameters to decied upon and a lot slower to cross-validate so I think for a small to medium datasets just like this one traditional models like might still be a better choice."
   ]
  },
  {
   "cell_type": "code",
   "execution_count": null,
   "metadata": {
    "collapsed": true
   },
   "outputs": [],
   "source": []
  }
 ],
 "metadata": {
  "kernelspec": {
   "display_name": "Python [conda env:py35]",
   "language": "python",
   "name": "conda-env-py35-py"
  },
  "language_info": {
   "codemirror_mode": {
    "name": "ipython",
    "version": 3
   },
   "file_extension": ".py",
   "mimetype": "text/x-python",
   "name": "python",
   "nbconvert_exporter": "python",
   "pygments_lexer": "ipython3",
   "version": "3.5.3"
  }
 },
 "nbformat": 4,
 "nbformat_minor": 2
}
