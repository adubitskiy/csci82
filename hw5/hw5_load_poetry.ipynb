{
 "cells": [
  {
   "cell_type": "markdown",
   "metadata": {},
   "source": [
    "#### Extract Shakespeare's poetry text"
   ]
  },
  {
   "cell_type": "code",
   "execution_count": 1,
   "metadata": {
    "collapsed": true
   },
   "outputs": [],
   "source": [
    "import os\n",
    "import os.path\n",
    "import numpy as np\n",
    "import pandas as pd\n",
    "\n",
    "from bs4 import BeautifulSoup\n",
    "import re\n",
    "import urllib.request\n",
    "import pickle\n",
    "import time"
   ]
  },
  {
   "cell_type": "markdown",
   "metadata": {},
   "source": [
    "#### The Sonnets"
   ]
  },
  {
   "cell_type": "code",
   "execution_count": 2,
   "metadata": {
    "collapsed": true
   },
   "outputs": [],
   "source": [
    "def parse_sonnets_page(url):\n",
    "    page = urllib.request.urlopen(url)\n",
    "    bs = BeautifulSoup(page, 'html.parser')\n",
    "    sonnet_links = bs.findAll(\n",
    "        lambda tag: tag.name=='a' and tag.has_attr('href') and tag['href'].startswith('sonnet')\n",
    "    )\n",
    "    sonnets = []\n",
    "    \n",
    "    for sonnet_link in sonnet_links:\n",
    "        sonnet = {}\n",
    "        sonnet['name'] = sonnet_link.text.strip()\n",
    "        sonnet['url'] = sonnet_link['href']\n",
    "        sonnets.append(sonnet)\n",
    "    \n",
    "    return sonnets"
   ]
  },
  {
   "cell_type": "code",
   "execution_count": 3,
   "metadata": {
    "collapsed": true
   },
   "outputs": [],
   "source": [
    "def parse_sonet_page(url):\n",
    "    page = urllib.request.urlopen(url)\n",
    "    bs = BeautifulSoup(page, 'html.parser')\n",
    "    blockquote = bs.find(lambda tag: tag.name=='blockquote')\n",
    "    return blockquote.text"
   ]
  },
  {
   "cell_type": "code",
   "execution_count": 4,
   "metadata": {
    "collapsed": true
   },
   "outputs": [],
   "source": [
    "poetries = parse_sonnets_page('http://shakespeare.mit.edu/Poetry/sonnets.html')\n",
    "for poetry in poetries:\n",
    "    sonnet_url = 'http://shakespeare.mit.edu/Poetry/' + poetry['url']\n",
    "    poetry['text'] = parse_sonet_page(sonnet_url)"
   ]
  },
  {
   "cell_type": "code",
   "execution_count": 5,
   "metadata": {
    "collapsed": true
   },
   "outputs": [],
   "source": [
    "poetry = {}\n",
    "poetry['name'] = \"A Lover's Complaint\"\n",
    "poetry['text'] = ''\n",
    "poetries.append(poetry)\n",
    "\n",
    "page = urllib.request.urlopen('http://shakespeare.mit.edu/Poetry/LoversComplaint.html')\n",
    "bs = BeautifulSoup(page, 'html.parser')\n",
    "\n",
    "title_tag = bs.find(lambda tag: tag.name=='h1')\n",
    "text_tags = title_tag.find_next_siblings(lambda tag: tag.name=='p' or tag.name=='blockquote')\n",
    "for text_tag in text_tags:\n",
    "    poetry['text'] += text_tag.text.strip()"
   ]
  },
  {
   "cell_type": "code",
   "execution_count": 6,
   "metadata": {
    "collapsed": true
   },
   "outputs": [],
   "source": [
    "poetry = {}\n",
    "poetry['name'] = 'The Rape of Lucrece'\n",
    "poetry['text'] = ''\n",
    "poetries.append(poetry)\n",
    "\n",
    "page = urllib.request.urlopen('http://shakespeare.mit.edu/Poetry/RapeOfLucrece.html')\n",
    "bs = BeautifulSoup(page, 'html.parser')\n",
    "\n",
    "title_tag = bs.find(lambda tag: tag.name=='h1')\n",
    "text_tags = title_tag.find_next_siblings(lambda tag: tag.name=='p' or tag.name=='blockquote')\n",
    "for text_tag in text_tags:\n",
    "    poetry['text'] += text_tag.text.strip()"
   ]
  },
  {
   "cell_type": "code",
   "execution_count": 7,
   "metadata": {
    "collapsed": true
   },
   "outputs": [],
   "source": [
    "poetry = {}\n",
    "poetry['name'] = 'Venus and Adonis'\n",
    "poetry['text'] = ''\n",
    "poetries.append(poetry)\n",
    "\n",
    "page = urllib.request.urlopen('http://shakespeare.mit.edu/Poetry/VenusAndAdonis.html')\n",
    "bs = BeautifulSoup(page, 'html.parser')\n",
    "\n",
    "text_tags = bs.findAll(lambda tag: tag.name=='blockquote')\n",
    "# skip first two blockquotes\n",
    "for text_tag in text_tags[2:]:\n",
    "    poetry['text'] += text_tag.text.strip()"
   ]
  },
  {
   "cell_type": "code",
   "execution_count": 8,
   "metadata": {
    "collapsed": true
   },
   "outputs": [],
   "source": [
    "page = urllib.request.urlopen('http://shakespeare.mit.edu/Poetry/elegy.html')\n",
    "bs = BeautifulSoup(page, 'html.parser')\n",
    "\n",
    "poetry = {}\n",
    "poetry['name'] = 'A Funeral Elegy'\n",
    "poetry['text'] = re.sub(\"\\d+\", \" \", bs.text[915:])\n",
    "\n",
    "poetries.append(poetry)"
   ]
  },
  {
   "cell_type": "markdown",
   "metadata": {},
   "source": [
    "First 5 texts"
   ]
  },
  {
   "cell_type": "code",
   "execution_count": 9,
   "metadata": {},
   "outputs": [
    {
     "data": {
      "text/plain": [
       "[{'name': 'I. FROM fairest creatures we desire increase,',\n",
       "  'text': \"FROM fairest creatures we desire increase,\\nThat thereby beauty's rose might never die,\\nBut as the riper should by time decease,\\nHis tender heir might bear his memory:\\nBut thou, contracted to thine own bright eyes,\\nFeed'st thy light'st flame with self-substantial fuel,\\nMaking a famine where abundance lies,\\nThyself thy foe, to thy sweet self too cruel.\\nThou that art now the world's fresh ornament\\nAnd only herald to the gaudy spring,\\nWithin thine own bud buriest thy content\\nAnd, tender churl, makest waste in niggarding.\\n  Pity the world, or else this glutton be,\\n  To eat the world's due, by the grave and thee.\\n\",\n",
       "  'url': 'sonnet.I.html'},\n",
       " {'name': 'II. When forty winters shall beseige thy brow,',\n",
       "  'text': \"When forty winters shall beseige thy brow,\\nAnd dig deep trenches in thy beauty's field,\\nThy youth's proud livery, so gazed on now,\\nWill be a tatter'd weed, of small worth held:\\nThen being ask'd where all thy beauty lies,\\nWhere all the treasure of thy lusty days,\\nTo say, within thine own deep-sunken eyes,\\nWere an all-eating shame and thriftless praise.\\nHow much more praise deserved thy beauty's use,\\nIf thou couldst answer 'This fair child of mine\\nShall sum my count and make my old excuse,'\\nProving his beauty by succession thine!\\n  This were to be new made when thou art old,\\n  And see thy blood warm when thou feel'st it cold.\\n\",\n",
       "  'url': 'sonnet.II.html'},\n",
       " {'name': 'III. Look in thy glass, and tell the face thou viewest',\n",
       "  'text': \"Look in thy glass, and tell the face thou viewest\\nNow is the time that face should form another;\\nWhose fresh repair if now thou not renewest,\\nThou dost beguile the world, unbless some mother.\\nFor where is she so fair whose unear'd womb\\nDisdains the tillage of thy husbandry?\\nOr who is he so fond will be the tomb\\nOf his self-love, to stop posterity?\\nThou art thy mother's glass, and she in thee\\nCalls back the lovely April of her prime:\\nSo thou through windows of thine age shall see\\nDespite of wrinkles this thy golden time.\\n  But if thou live, remember'd not to be,\\n  Die single, and thine image dies with thee.\\n\",\n",
       "  'url': 'sonnet.III.html'},\n",
       " {'name': 'IV. Unthrifty loveliness, why dost thou spend',\n",
       "  'text': \"Unthrifty loveliness, why dost thou spend\\nUpon thyself thy beauty's legacy?\\nNature's bequest gives nothing but doth lend,\\nAnd being frank she lends to those are free.\\nThen, beauteous niggard, why dost thou abuse\\nThe bounteous largess given thee to give?\\nProfitless usurer, why dost thou use\\nSo great a sum of sums, yet canst not live?\\nFor having traffic with thyself alone,\\nThou of thyself thy sweet self dost deceive.\\nThen how, when nature calls thee to be gone,\\nWhat acceptable audit canst thou leave?\\n  Thy unused beauty must be tomb'd with thee,\\n  Which, used, lives th' executor to be.\\n\",\n",
       "  'url': 'sonnet.IV.html'},\n",
       " {'name': 'V. Those hours, that with gentle work did frame',\n",
       "  'text': \"Those hours, that with gentle work did frame\\nThe lovely gaze where every eye doth dwell,\\nWill play the tyrants to the very same\\nAnd that unfair which fairly doth excel:\\nFor never-resting time leads summer on\\nTo hideous winter and confounds him there;\\nSap cheque'd with frost and lusty leaves quite gone,\\nBeauty o'ersnow'd and bareness every where:\\nThen, were not summer's distillation left,\\nA liquid prisoner pent in walls of glass,\\nBeauty's effect with beauty were bereft,\\nNor it nor no remembrance what it was:\\n  But flowers distill'd though they with winter meet,\\n  Leese but their show; their substance still lives sweet.\\n\",\n",
       "  'url': 'sonnet.V.html'}]"
      ]
     },
     "execution_count": 9,
     "metadata": {},
     "output_type": "execute_result"
    }
   ],
   "source": [
    "poetries[0:5]"
   ]
  },
  {
   "cell_type": "markdown",
   "metadata": {},
   "source": [
    "Pickle for further use"
   ]
  },
  {
   "cell_type": "code",
   "execution_count": 10,
   "metadata": {
    "collapsed": true
   },
   "outputs": [],
   "source": [
    "file_name = 'shakespeare_poetries.pickle'\n",
    "with open(file_name, 'wb') as handle:\n",
    "    pickle.dump(poetries, handle, protocol=pickle.HIGHEST_PROTOCOL)    "
   ]
  },
  {
   "cell_type": "code",
   "execution_count": null,
   "metadata": {
    "collapsed": true
   },
   "outputs": [],
   "source": []
  }
 ],
 "metadata": {
  "kernelspec": {
   "display_name": "Python [default]",
   "language": "python",
   "name": "python3"
  },
  "language_info": {
   "codemirror_mode": {
    "name": "ipython",
    "version": 3
   },
   "file_extension": ".py",
   "mimetype": "text/x-python",
   "name": "python",
   "nbconvert_exporter": "python",
   "pygments_lexer": "ipython3",
   "version": "3.5.3"
  }
 },
 "nbformat": 4,
 "nbformat_minor": 2
}
