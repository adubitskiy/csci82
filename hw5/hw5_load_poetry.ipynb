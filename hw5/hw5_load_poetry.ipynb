{
 "cells": [
  {
   "cell_type": "markdown",
   "metadata": {},
   "source": [
    "#### Extract Shakespeare's poetry text"
   ]
  },
  {
   "cell_type": "code",
   "execution_count": 1,
   "metadata": {
    "collapsed": true
   },
   "outputs": [],
   "source": [
    "import os\n",
    "import os.path\n",
    "import numpy as np\n",
    "import pandas as pd\n",
    "\n",
    "from bs4 import BeautifulSoup\n",
    "import re\n",
    "import urllib.request\n",
    "import pickle\n",
    "import time"
   ]
  },
  {
   "cell_type": "markdown",
   "metadata": {},
   "source": [
    "#### The Sonnets"
   ]
  },
  {
   "cell_type": "code",
   "execution_count": 2,
   "metadata": {
    "collapsed": true
   },
   "outputs": [],
   "source": [
    "def parse_sonnets_page(url):\n",
    "    page = urllib.request.urlopen(url)\n",
    "    bs = BeautifulSoup(page, 'html.parser')\n",
    "    sonnet_links = bs.findAll(\n",
    "        lambda tag: tag.name=='a' and tag.has_attr('href') and tag['href'].startswith('sonnet')\n",
    "    )\n",
    "    sonnets = []\n",
    "    \n",
    "    for sonnet_link in sonnet_links:\n",
    "        sonnet = {}\n",
    "        sonnet['name'] = sonnet_link.text.strip()\n",
    "        sonnet['url'] = sonnet_link['href']\n",
    "        sonnets.append(sonnet)\n",
    "    \n",
    "    return sonnets"
   ]
  },
  {
   "cell_type": "code",
   "execution_count": 3,
   "metadata": {
    "collapsed": true
   },
   "outputs": [],
   "source": [
    "def parse_sonet_page(url):\n",
    "    page = urllib.request.urlopen(url)\n",
    "    bs = BeautifulSoup(page, 'html.parser')\n",
    "    blockquote = bs.find(lambda tag: tag.name=='blockquote')\n",
    "    return blockquote.text"
   ]
  },
  {
   "cell_type": "code",
   "execution_count": 4,
   "metadata": {},
   "outputs": [],
   "source": [
    "poetries = parse_sonnets_page('http://shakespeare.mit.edu/Poetry/sonnets.html')\n",
    "for poetry in poetries:\n",
    "    sonnet_url = 'http://shakespeare.mit.edu/Poetry/' + poetry['url']\n",
    "    poetry['text'] = parse_sonet_page(sonnet_url)"
   ]
  },
  {
   "cell_type": "code",
   "execution_count": 5,
   "metadata": {},
   "outputs": [],
   "source": [
    "poetry = {}\n",
    "poetry['name'] = \"A Lover's Complaint\"\n",
    "poetry['text'] = ''\n",
    "poetries.append(poetry)\n",
    "\n",
    "page = urllib.request.urlopen('http://shakespeare.mit.edu/Poetry/LoversComplaint.html')\n",
    "bs = BeautifulSoup(page, 'html.parser')\n",
    "\n",
    "title_tag = bs.find(lambda tag: tag.name=='h1')\n",
    "text_tags = title_tag.find_next_siblings(lambda tag: tag.name=='p' or tag.name=='blockquote')\n",
    "for text_tag in text_tags:\n",
    "    poetry['text'] += text_tag.text.strip()"
   ]
  },
  {
   "cell_type": "code",
   "execution_count": 6,
   "metadata": {},
   "outputs": [],
   "source": [
    "poetry = {}\n",
    "poetry['name'] = 'The Rape of Lucrece'\n",
    "poetry['text'] = ''\n",
    "poetries.append(poetry)\n",
    "\n",
    "page = urllib.request.urlopen('http://shakespeare.mit.edu/Poetry/RapeOfLucrece.html')\n",
    "bs = BeautifulSoup(page, 'html.parser')\n",
    "\n",
    "title_tag = bs.find(lambda tag: tag.name=='h1')\n",
    "text_tags = title_tag.find_next_siblings(lambda tag: tag.name=='p' or tag.name=='blockquote')\n",
    "for text_tag in text_tags:\n",
    "    poetry['text'] += text_tag.text.strip()"
   ]
  },
  {
   "cell_type": "code",
   "execution_count": 7,
   "metadata": {},
   "outputs": [],
   "source": [
    "poetry = {}\n",
    "poetry['name'] = 'Venus and Adonis'\n",
    "poetry['text'] = ''\n",
    "poetries.append(poetry)\n",
    "\n",
    "page = urllib.request.urlopen('http://shakespeare.mit.edu/Poetry/VenusAndAdonis.html')\n",
    "bs = BeautifulSoup(page, 'html.parser')\n",
    "\n",
    "text_tags = bs.findAll(lambda tag: tag.name=='blockquote')\n",
    "# skip first two blockquotes\n",
    "for text_tag in text_tags[2:]:\n",
    "    poetry['text'] += text_tag.text.strip()"
   ]
  },
  {
   "cell_type": "code",
   "execution_count": 8,
   "metadata": {},
   "outputs": [],
   "source": [
    "page = urllib.request.urlopen('http://shakespeare.mit.edu/Poetry/elegy.html')\n",
    "bs = BeautifulSoup(page, 'html.parser')\n",
    "\n",
    "poetry = {}\n",
    "poetry['name'] = 'A Funeral Elegy'\n",
    "poetry['text'] = re.sub(\"\\d+\", \" \", bs.text[915:])\n",
    "\n",
    "poetries.append(poetry)"
   ]
  },
  {
   "cell_type": "code",
   "execution_count": 9,
   "metadata": {},
   "outputs": [],
   "source": [
    "file_name = 'shakespeare_poetries.pickle'\n",
    "with open(file_name, 'wb') as handle:\n",
    "    pickle.dump(poetries, handle, protocol=pickle.HIGHEST_PROTOCOL)    "
   ]
  },
  {
   "cell_type": "code",
   "execution_count": null,
   "metadata": {
    "collapsed": true
   },
   "outputs": [],
   "source": []
  }
 ],
 "metadata": {
  "kernelspec": {
   "display_name": "Python 3",
   "language": "python",
   "name": "python3"
  },
  "language_info": {
   "codemirror_mode": {
    "name": "ipython",
    "version": 3
   },
   "file_extension": ".py",
   "mimetype": "text/x-python",
   "name": "python",
   "nbconvert_exporter": "python",
   "pygments_lexer": "ipython3",
   "version": "3.5.3"
  }
 },
 "nbformat": 4,
 "nbformat_minor": 2
}
